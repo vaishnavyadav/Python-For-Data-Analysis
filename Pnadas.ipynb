{
 "cells": [
  {
   "cell_type": "code",
   "execution_count": 3,
   "id": "d214a838",
   "metadata": {},
   "outputs": [
    {
     "name": "stdout",
     "output_type": "stream",
     "text": [
      "0    1\n",
      "1    2\n",
      "2    3\n",
      "3    4\n",
      "dtype: int64\n"
     ]
    }
   ],
   "source": [
    "import pandas as pd\n",
    "s = pd.Series([1,2,3,4])\n",
    "print(s)"
   ]
  },
  {
   "cell_type": "code",
   "execution_count": 5,
   "id": "18995d65",
   "metadata": {},
   "outputs": [
    {
     "name": "stdout",
     "output_type": "stream",
     "text": [
      "0      x\n",
      "1      y\n",
      "2      z\n",
      "3    abc\n",
      "dtype: object\n"
     ]
    }
   ],
   "source": [
    "s=pd.Series(['x','y','z','abc'])\n",
    "print(s)"
   ]
  },
  {
   "cell_type": "code",
   "execution_count": 6,
   "id": "baad761e",
   "metadata": {},
   "outputs": [
    {
     "name": "stdout",
     "output_type": "stream",
     "text": [
      "0    vaishnav\n",
      "1       yadav\n",
      "dtype: object\n"
     ]
    }
   ],
   "source": [
    "s=pd.Series(['vaishnav','yadav'])\n",
    "print(s)"
   ]
  },
  {
   "cell_type": "code",
   "execution_count": 7,
   "id": "5a165047",
   "metadata": {},
   "outputs": [
    {
     "name": "stdout",
     "output_type": "stream",
     "text": [
      "b    1\n",
      "a    0\n",
      "c    2\n",
      "dtype: int64\n"
     ]
    }
   ],
   "source": [
    "d = {\"b\": 1, \"a\": 0, \"c\": 2}\n",
    "\n",
    "s = pd.Series(d)\n",
    "\n",
    "print(s)"
   ]
  },
  {
   "cell_type": "code",
   "execution_count": 11,
   "id": "153deb74",
   "metadata": {},
   "outputs": [
    {
     "name": "stdout",
     "output_type": "stream",
     "text": [
      "0    10\n",
      "1    20\n",
      "2    30\n",
      "3    40\n",
      "4    50\n",
      "dtype: int32\n"
     ]
    }
   ],
   "source": [
    "import numpy as np\n",
    "data = np.array([10, 20, 30, 40, 50])\n",
    "\n",
    "s = pd.Series(data)\n",
    "\n",
    "print(s)"
   ]
  },
  {
   "cell_type": "markdown",
   "id": "5fb5159d",
   "metadata": {},
   "source": [
    "## Creating Series From Scaler"
   ]
  },
  {
   "cell_type": "code",
   "execution_count": 12,
   "id": "49625a7a",
   "metadata": {},
   "outputs": [
    {
     "data": {
      "text/plain": [
       "a    5.0\n",
       "b    5.0\n",
       "c    5.0\n",
       "d    5.0\n",
       "dtype: float64"
      ]
     },
     "execution_count": 12,
     "metadata": {},
     "output_type": "execute_result"
    }
   ],
   "source": [
    "pd.Series(5.0,index=['a','b','c','d'])"
   ]
  },
  {
   "cell_type": "markdown",
   "id": "603d19cb",
   "metadata": {},
   "source": [
    "## Accessing Properties/Attributes and Methods of Series"
   ]
  },
  {
   "cell_type": "code",
   "execution_count": 13,
   "id": "bf6d2cb0",
   "metadata": {},
   "outputs": [],
   "source": [
    "import pandas as pd\n",
    "import numpy as np\n",
    "\n",
    "data = np.array([10, 20, 30, 40, 50, 60, 70, 80])\n",
    "\n",
    "s = pd.Series(data)"
   ]
  },
  {
   "cell_type": "code",
   "execution_count": 14,
   "id": "aa2008cd",
   "metadata": {},
   "outputs": [
    {
     "name": "stdout",
     "output_type": "stream",
     "text": [
      "Data Type: int32\n",
      "Shape: (8,)\n",
      "Values: [10 20 30 40 50 60 70 80]\n",
      "Array: <PandasArray>\n",
      "[10, 20, 30, 40, 50, 60, 70, 80]\n",
      "Length: 8, dtype: int32\n"
     ]
    }
   ],
   "source": [
    "print(\"Data Type:\", s.dtype)\n",
    "print(\"Shape:\", s.shape)\n",
    "print(\"Values:\", s.values)\n",
    "print(\"Array:\", s.array)"
   ]
  },
  {
   "cell_type": "code",
   "execution_count": 15,
   "id": "f0669096",
   "metadata": {},
   "outputs": [
    {
     "name": "stdout",
     "output_type": "stream",
     "text": [
      "Method to extract actual numpy ndarray: [10 20 30 40 50 60 70 80]\n"
     ]
    }
   ],
   "source": [
    "print(\"Method to extract actual numpy ndarray:\", s.to_numpy())"
   ]
  },
  {
   "cell_type": "code",
   "execution_count": 16,
   "id": "713414bb",
   "metadata": {},
   "outputs": [
    {
     "data": {
      "text/plain": [
       "0    10\n",
       "1    20\n",
       "2    30\n",
       "3    40\n",
       "4    50\n",
       "dtype: int32"
      ]
     },
     "execution_count": 16,
     "metadata": {},
     "output_type": "execute_result"
    }
   ],
   "source": [
    "s.head()"
   ]
  },
  {
   "cell_type": "code",
   "execution_count": 17,
   "id": "ad4b1a77",
   "metadata": {},
   "outputs": [
    {
     "data": {
      "text/plain": [
       "3    40\n",
       "4    50\n",
       "5    60\n",
       "6    70\n",
       "7    80\n",
       "dtype: int32"
      ]
     },
     "execution_count": 17,
     "metadata": {},
     "output_type": "execute_result"
    }
   ],
   "source": [
    "s.tail()"
   ]
  },
  {
   "cell_type": "code",
   "execution_count": 18,
   "id": "dfdf2adc",
   "metadata": {},
   "outputs": [
    {
     "name": "stdout",
     "output_type": "stream",
     "text": [
      "<class 'pandas.core.series.Series'>\n",
      "RangeIndex: 8 entries, 0 to 7\n",
      "Series name: None\n",
      "Non-Null Count  Dtype\n",
      "--------------  -----\n",
      "8 non-null      int32\n",
      "dtypes: int32(1)\n",
      "memory usage: 160.0 bytes\n"
     ]
    }
   ],
   "source": [
    "s.info()"
   ]
  },
  {
   "cell_type": "markdown",
   "id": "32234919",
   "metadata": {},
   "source": [
    "## Accessing data using Indexing and Slicing"
   ]
  },
  {
   "cell_type": "code",
   "execution_count": 19,
   "id": "9eabf7da",
   "metadata": {},
   "outputs": [
    {
     "name": "stdout",
     "output_type": "stream",
     "text": [
      "3\n"
     ]
    }
   ],
   "source": [
    "s = pd.Series([1, 2, 3, 4, 5])\n",
    "\n",
    "print(s[2])"
   ]
  },
  {
   "cell_type": "code",
   "execution_count": 20,
   "id": "11703fe7",
   "metadata": {},
   "outputs": [
    {
     "name": "stdout",
     "output_type": "stream",
     "text": [
      "1    2\n",
      "2    3\n",
      "3    4\n",
      "4    5\n",
      "dtype: int64\n"
     ]
    }
   ],
   "source": [
    "print(s[1:])"
   ]
  },
  {
   "cell_type": "code",
   "execution_count": 21,
   "id": "3efcf84b",
   "metadata": {},
   "outputs": [
    {
     "name": "stdout",
     "output_type": "stream",
     "text": [
      "1    2\n",
      "2    3\n",
      "3    4\n",
      "dtype: int64\n"
     ]
    }
   ],
   "source": [
    "print(s[1:4])"
   ]
  },
  {
   "cell_type": "code",
   "execution_count": 22,
   "id": "469bbd83",
   "metadata": {},
   "outputs": [
    {
     "name": "stdout",
     "output_type": "stream",
     "text": [
      "1    2\n",
      "4    5\n",
      "dtype: int64\n"
     ]
    }
   ],
   "source": [
    "print(s[[1, 4]])"
   ]
  },
  {
   "cell_type": "code",
   "execution_count": 23,
   "id": "4b7b6761",
   "metadata": {},
   "outputs": [
    {
     "name": "stdout",
     "output_type": "stream",
     "text": [
      "a    1\n",
      "b    2\n",
      "c    3\n",
      "d    4\n",
      "e    5\n",
      "dtype: int64\n"
     ]
    }
   ],
   "source": [
    "s = pd.Series([1, 2, 3, 4, 5], index=['a', 'b', 'c', 'd', 'e'])\n",
    "\n",
    "print(s)"
   ]
  },
  {
   "cell_type": "code",
   "execution_count": 24,
   "id": "69b229ef",
   "metadata": {},
   "outputs": [
    {
     "name": "stdout",
     "output_type": "stream",
     "text": [
      "1\n"
     ]
    }
   ],
   "source": [
    "print(s['a'])"
   ]
  },
  {
   "cell_type": "code",
   "execution_count": 25,
   "id": "f792115e",
   "metadata": {},
   "outputs": [
    {
     "name": "stdout",
     "output_type": "stream",
     "text": [
      "a    1\n",
      "b    2\n",
      "c    3\n",
      "d    4\n",
      "e    5\n",
      "dtype: int64\n"
     ]
    }
   ],
   "source": [
    "print(s['a':])"
   ]
  },
  {
   "cell_type": "code",
   "execution_count": 26,
   "id": "a250280d",
   "metadata": {},
   "outputs": [
    {
     "name": "stdout",
     "output_type": "stream",
     "text": [
      "a    1\n",
      "b    2\n",
      "e    5\n",
      "dtype: int64\n"
     ]
    }
   ],
   "source": [
    "print(s[['a', 'b', 'e']])"
   ]
  },
  {
   "cell_type": "code",
   "execution_count": 27,
   "id": "38605f38",
   "metadata": {},
   "outputs": [
    {
     "name": "stdout",
     "output_type": "stream",
     "text": [
      "None\n"
     ]
    }
   ],
   "source": [
    "print(s.get(\"f\"))"
   ]
  },
  {
   "cell_type": "markdown",
   "id": "a4ee34b9",
   "metadata": {},
   "source": [
    "## Creating DataFrame using Python dict, list or tuple"
   ]
  },
  {
   "cell_type": "code",
   "execution_count": 30,
   "id": "17ca03ce",
   "metadata": {},
   "outputs": [
    {
     "data": {
      "text/html": [
       "<div>\n",
       "<style scoped>\n",
       "    .dataframe tbody tr th:only-of-type {\n",
       "        vertical-align: middle;\n",
       "    }\n",
       "\n",
       "    .dataframe tbody tr th {\n",
       "        vertical-align: top;\n",
       "    }\n",
       "\n",
       "    .dataframe thead th {\n",
       "        text-align: right;\n",
       "    }\n",
       "</style>\n",
       "<table border=\"1\" class=\"dataframe\">\n",
       "  <thead>\n",
       "    <tr style=\"text-align: right;\">\n",
       "      <th></th>\n",
       "      <th>Name</th>\n",
       "      <th>Age</th>\n",
       "      <th>Gender</th>\n",
       "    </tr>\n",
       "  </thead>\n",
       "  <tbody>\n",
       "    <tr>\n",
       "      <th>0</th>\n",
       "      <td>vaishnav</td>\n",
       "      <td>23.0</td>\n",
       "      <td>Male</td>\n",
       "    </tr>\n",
       "    <tr>\n",
       "      <th>1</th>\n",
       "      <td>Ashish</td>\n",
       "      <td>NaN</td>\n",
       "      <td>Male</td>\n",
       "    </tr>\n",
       "    <tr>\n",
       "      <th>2</th>\n",
       "      <td>Anant</td>\n",
       "      <td>24.0</td>\n",
       "      <td>Male</td>\n",
       "    </tr>\n",
       "  </tbody>\n",
       "</table>\n",
       "</div>"
      ],
      "text/plain": [
       "       Name   Age Gender\n",
       "0  vaishnav  23.0   Male\n",
       "1    Ashish   NaN   Male\n",
       "2     Anant  24.0   Male"
      ]
     },
     "execution_count": 30,
     "metadata": {},
     "output_type": "execute_result"
    }
   ],
   "source": [
    "data={\n",
    "    'Name':['vaishnav','Ashish','Anant'],\n",
    "    'Age':[23,np.nan,24],\n",
    "    'Gender':['Male',\"Male\",\"Male\"]\n",
    "}\n",
    "df=pd.DataFrame(data)\n",
    "df"
   ]
  },
  {
   "cell_type": "code",
   "execution_count": 31,
   "id": "13e4ca73",
   "metadata": {},
   "outputs": [
    {
     "data": {
      "text/html": [
       "<div>\n",
       "<style scoped>\n",
       "    .dataframe tbody tr th:only-of-type {\n",
       "        vertical-align: middle;\n",
       "    }\n",
       "\n",
       "    .dataframe tbody tr th {\n",
       "        vertical-align: top;\n",
       "    }\n",
       "\n",
       "    .dataframe thead th {\n",
       "        text-align: right;\n",
       "    }\n",
       "</style>\n",
       "<table border=\"1\" class=\"dataframe\">\n",
       "  <thead>\n",
       "    <tr style=\"text-align: right;\">\n",
       "      <th></th>\n",
       "      <th>0</th>\n",
       "      <th>1</th>\n",
       "      <th>2</th>\n",
       "      <th>3</th>\n",
       "    </tr>\n",
       "  </thead>\n",
       "  <tbody>\n",
       "    <tr>\n",
       "      <th>0</th>\n",
       "      <td>1/1/2019</td>\n",
       "      <td>13</td>\n",
       "      <td>6</td>\n",
       "      <td>Rain</td>\n",
       "    </tr>\n",
       "    <tr>\n",
       "      <th>1</th>\n",
       "      <td>2/1/2019</td>\n",
       "      <td>11</td>\n",
       "      <td>7</td>\n",
       "      <td>Fog</td>\n",
       "    </tr>\n",
       "    <tr>\n",
       "      <th>2</th>\n",
       "      <td>3/1/2019</td>\n",
       "      <td>12</td>\n",
       "      <td>8</td>\n",
       "      <td>Sunny</td>\n",
       "    </tr>\n",
       "    <tr>\n",
       "      <th>3</th>\n",
       "      <td>4/1/2019</td>\n",
       "      <td>8</td>\n",
       "      <td>5</td>\n",
       "      <td>Snow</td>\n",
       "    </tr>\n",
       "    <tr>\n",
       "      <th>4</th>\n",
       "      <td>5/1/2019</td>\n",
       "      <td>9</td>\n",
       "      <td>6</td>\n",
       "      <td>Rain</td>\n",
       "    </tr>\n",
       "  </tbody>\n",
       "</table>\n",
       "</div>"
      ],
      "text/plain": [
       "          0   1  2      3\n",
       "0  1/1/2019  13  6   Rain\n",
       "1  2/1/2019  11  7    Fog\n",
       "2  3/1/2019  12  8  Sunny\n",
       "3  4/1/2019   8  5   Snow\n",
       "4  5/1/2019   9  6   Rain"
      ]
     },
     "execution_count": 31,
     "metadata": {},
     "output_type": "execute_result"
    }
   ],
   "source": [
    "data = [('1/1/2019', 13, 6, 'Rain'),\n",
    "       ('2/1/2019', 11, 7, 'Fog'),\n",
    "       ('3/1/2019', 12, 8, 'Sunny'),\n",
    "       ('4/1/2019', 8, 5, 'Snow'),\n",
    "       ('5/1/2019', 9, 6, 'Rain')]\n",
    "\n",
    "df = pd.DataFrame(data)\n",
    "\n",
    "df"
   ]
  },
  {
   "cell_type": "code",
   "execution_count": 32,
   "id": "5e5be80b",
   "metadata": {},
   "outputs": [
    {
     "data": {
      "text/html": [
       "<div>\n",
       "<style scoped>\n",
       "    .dataframe tbody tr th:only-of-type {\n",
       "        vertical-align: middle;\n",
       "    }\n",
       "\n",
       "    .dataframe tbody tr th {\n",
       "        vertical-align: top;\n",
       "    }\n",
       "\n",
       "    .dataframe thead th {\n",
       "        text-align: right;\n",
       "    }\n",
       "</style>\n",
       "<table border=\"1\" class=\"dataframe\">\n",
       "  <thead>\n",
       "    <tr style=\"text-align: right;\">\n",
       "      <th></th>\n",
       "      <th>Day</th>\n",
       "      <th>Temperature</th>\n",
       "      <th>WindSpeed</th>\n",
       "      <th>Event</th>\n",
       "    </tr>\n",
       "  </thead>\n",
       "  <tbody>\n",
       "    <tr>\n",
       "      <th>0</th>\n",
       "      <td>1/1/2019</td>\n",
       "      <td>13</td>\n",
       "      <td>6</td>\n",
       "      <td>Rain</td>\n",
       "    </tr>\n",
       "    <tr>\n",
       "      <th>1</th>\n",
       "      <td>2/1/2019</td>\n",
       "      <td>11</td>\n",
       "      <td>7</td>\n",
       "      <td>Fog</td>\n",
       "    </tr>\n",
       "    <tr>\n",
       "      <th>2</th>\n",
       "      <td>3/1/2019</td>\n",
       "      <td>12</td>\n",
       "      <td>8</td>\n",
       "      <td>Sunny</td>\n",
       "    </tr>\n",
       "    <tr>\n",
       "      <th>3</th>\n",
       "      <td>4/1/2019</td>\n",
       "      <td>8</td>\n",
       "      <td>5</td>\n",
       "      <td>Snow</td>\n",
       "    </tr>\n",
       "    <tr>\n",
       "      <th>4</th>\n",
       "      <td>5/1/2019</td>\n",
       "      <td>9</td>\n",
       "      <td>6</td>\n",
       "      <td>Rain</td>\n",
       "    </tr>\n",
       "  </tbody>\n",
       "</table>\n",
       "</div>"
      ],
      "text/plain": [
       "        Day  Temperature  WindSpeed  Event\n",
       "0  1/1/2019           13          6   Rain\n",
       "1  2/1/2019           11          7    Fog\n",
       "2  3/1/2019           12          8  Sunny\n",
       "3  4/1/2019            8          5   Snow\n",
       "4  5/1/2019            9          6   Rain"
      ]
     },
     "execution_count": 32,
     "metadata": {},
     "output_type": "execute_result"
    }
   ],
   "source": [
    "data = (('1/1/2019', 13, 6, 'Rain'),\n",
    "       ('2/1/2019', 11, 7, 'Fog'),\n",
    "       ('3/1/2019', 12, 8, 'Sunny'),\n",
    "       ('4/1/2019', 8, 5, 'Snow'),\n",
    "       ('5/1/2019', 9, 6, 'Rain'))\n",
    "\n",
    "df = pd.DataFrame(data, columns=['Day', 'Temperature', 'WindSpeed', 'Event'])\n",
    "\n",
    "df"
   ]
  },
  {
   "cell_type": "code",
   "execution_count": 33,
   "id": "8aacc885",
   "metadata": {},
   "outputs": [
    {
     "data": {
      "text/html": [
       "<div>\n",
       "<style scoped>\n",
       "    .dataframe tbody tr th:only-of-type {\n",
       "        vertical-align: middle;\n",
       "    }\n",
       "\n",
       "    .dataframe tbody tr th {\n",
       "        vertical-align: top;\n",
       "    }\n",
       "\n",
       "    .dataframe thead th {\n",
       "        text-align: right;\n",
       "    }\n",
       "</style>\n",
       "<table border=\"1\" class=\"dataframe\">\n",
       "  <thead>\n",
       "    <tr style=\"text-align: right;\">\n",
       "      <th></th>\n",
       "      <th>Day</th>\n",
       "      <th>Temperature</th>\n",
       "      <th>WindSpeed</th>\n",
       "      <th>Event</th>\n",
       "    </tr>\n",
       "  </thead>\n",
       "  <tbody>\n",
       "    <tr>\n",
       "      <th>I1</th>\n",
       "      <td>1/1/2019</td>\n",
       "      <td>13</td>\n",
       "      <td>6</td>\n",
       "      <td>Rain</td>\n",
       "    </tr>\n",
       "    <tr>\n",
       "      <th>I2</th>\n",
       "      <td>2/1/2019</td>\n",
       "      <td>11</td>\n",
       "      <td>7</td>\n",
       "      <td>Fog</td>\n",
       "    </tr>\n",
       "    <tr>\n",
       "      <th>I3</th>\n",
       "      <td>3/1/2019</td>\n",
       "      <td>12</td>\n",
       "      <td>8</td>\n",
       "      <td>Sunny</td>\n",
       "    </tr>\n",
       "    <tr>\n",
       "      <th>I4</th>\n",
       "      <td>4/1/2019</td>\n",
       "      <td>8</td>\n",
       "      <td>5</td>\n",
       "      <td>Snow</td>\n",
       "    </tr>\n",
       "    <tr>\n",
       "      <th>I5</th>\n",
       "      <td>5/1/2019</td>\n",
       "      <td>9</td>\n",
       "      <td>6</td>\n",
       "      <td>Rain</td>\n",
       "    </tr>\n",
       "  </tbody>\n",
       "</table>\n",
       "</div>"
      ],
      "text/plain": [
       "         Day  Temperature  WindSpeed  Event\n",
       "I1  1/1/2019           13          6   Rain\n",
       "I2  2/1/2019           11          7    Fog\n",
       "I3  3/1/2019           12          8  Sunny\n",
       "I4  4/1/2019            8          5   Snow\n",
       "I5  5/1/2019            9          6   Rain"
      ]
     },
     "execution_count": 33,
     "metadata": {},
     "output_type": "execute_result"
    }
   ],
   "source": [
    "data = (['1/1/2019', 13, 6, 'Rain'],\n",
    "       ['2/1/2019', 11, 7, 'Fog'],\n",
    "       ['3/1/2019', 12, 8, 'Sunny'],\n",
    "       ['4/1/2019', 8, 5, 'Snow'],\n",
    "       ['5/1/2019', 9, 6, 'Rain'])\n",
    "\n",
    "df = pd.DataFrame(data, \n",
    "                  index=['I1', 'I2', 'I3', 'I4', 'I5'], \n",
    "                  columns=['Day', 'Temperature', 'WindSpeed', 'Event'])\n",
    "\n",
    "df"
   ]
  },
  {
   "cell_type": "markdown",
   "id": "d4b63cac",
   "metadata": {},
   "source": [
    "## Creating DataFrame using Numpy Array"
   ]
  },
  {
   "cell_type": "code",
   "execution_count": 34,
   "id": "1aabe996",
   "metadata": {},
   "outputs": [
    {
     "name": "stdout",
     "output_type": "stream",
     "text": [
      "(1000, 100)\n"
     ]
    }
   ],
   "source": [
    "arr = np.random.randint(100, 1999, size=(1000, 100))\n",
    "\n",
    "print(arr.shape)"
   ]
  },
  {
   "cell_type": "code",
   "execution_count": 35,
   "id": "283645b5",
   "metadata": {},
   "outputs": [
    {
     "data": {
      "text/html": [
       "<div>\n",
       "<style scoped>\n",
       "    .dataframe tbody tr th:only-of-type {\n",
       "        vertical-align: middle;\n",
       "    }\n",
       "\n",
       "    .dataframe tbody tr th {\n",
       "        vertical-align: top;\n",
       "    }\n",
       "\n",
       "    .dataframe thead th {\n",
       "        text-align: right;\n",
       "    }\n",
       "</style>\n",
       "<table border=\"1\" class=\"dataframe\">\n",
       "  <thead>\n",
       "    <tr style=\"text-align: right;\">\n",
       "      <th></th>\n",
       "      <th>0</th>\n",
       "      <th>1</th>\n",
       "      <th>2</th>\n",
       "      <th>3</th>\n",
       "      <th>4</th>\n",
       "      <th>5</th>\n",
       "      <th>6</th>\n",
       "      <th>7</th>\n",
       "      <th>8</th>\n",
       "      <th>9</th>\n",
       "      <th>...</th>\n",
       "      <th>90</th>\n",
       "      <th>91</th>\n",
       "      <th>92</th>\n",
       "      <th>93</th>\n",
       "      <th>94</th>\n",
       "      <th>95</th>\n",
       "      <th>96</th>\n",
       "      <th>97</th>\n",
       "      <th>98</th>\n",
       "      <th>99</th>\n",
       "    </tr>\n",
       "  </thead>\n",
       "  <tbody>\n",
       "    <tr>\n",
       "      <th>0</th>\n",
       "      <td>1408</td>\n",
       "      <td>304</td>\n",
       "      <td>1688</td>\n",
       "      <td>1244</td>\n",
       "      <td>559</td>\n",
       "      <td>608</td>\n",
       "      <td>901</td>\n",
       "      <td>1922</td>\n",
       "      <td>970</td>\n",
       "      <td>1894</td>\n",
       "      <td>...</td>\n",
       "      <td>1907</td>\n",
       "      <td>798</td>\n",
       "      <td>1267</td>\n",
       "      <td>571</td>\n",
       "      <td>1765</td>\n",
       "      <td>1856</td>\n",
       "      <td>948</td>\n",
       "      <td>1858</td>\n",
       "      <td>1119</td>\n",
       "      <td>805</td>\n",
       "    </tr>\n",
       "    <tr>\n",
       "      <th>1</th>\n",
       "      <td>1777</td>\n",
       "      <td>853</td>\n",
       "      <td>1298</td>\n",
       "      <td>1463</td>\n",
       "      <td>1256</td>\n",
       "      <td>1703</td>\n",
       "      <td>418</td>\n",
       "      <td>1281</td>\n",
       "      <td>505</td>\n",
       "      <td>1950</td>\n",
       "      <td>...</td>\n",
       "      <td>279</td>\n",
       "      <td>1326</td>\n",
       "      <td>988</td>\n",
       "      <td>1536</td>\n",
       "      <td>1839</td>\n",
       "      <td>610</td>\n",
       "      <td>1472</td>\n",
       "      <td>665</td>\n",
       "      <td>148</td>\n",
       "      <td>1584</td>\n",
       "    </tr>\n",
       "    <tr>\n",
       "      <th>2</th>\n",
       "      <td>1600</td>\n",
       "      <td>1325</td>\n",
       "      <td>248</td>\n",
       "      <td>1610</td>\n",
       "      <td>1339</td>\n",
       "      <td>224</td>\n",
       "      <td>1552</td>\n",
       "      <td>1367</td>\n",
       "      <td>287</td>\n",
       "      <td>429</td>\n",
       "      <td>...</td>\n",
       "      <td>1591</td>\n",
       "      <td>1687</td>\n",
       "      <td>1072</td>\n",
       "      <td>937</td>\n",
       "      <td>229</td>\n",
       "      <td>1805</td>\n",
       "      <td>523</td>\n",
       "      <td>867</td>\n",
       "      <td>1323</td>\n",
       "      <td>1778</td>\n",
       "    </tr>\n",
       "    <tr>\n",
       "      <th>3</th>\n",
       "      <td>152</td>\n",
       "      <td>1769</td>\n",
       "      <td>1505</td>\n",
       "      <td>334</td>\n",
       "      <td>347</td>\n",
       "      <td>1950</td>\n",
       "      <td>584</td>\n",
       "      <td>1210</td>\n",
       "      <td>1944</td>\n",
       "      <td>739</td>\n",
       "      <td>...</td>\n",
       "      <td>973</td>\n",
       "      <td>262</td>\n",
       "      <td>704</td>\n",
       "      <td>918</td>\n",
       "      <td>853</td>\n",
       "      <td>1818</td>\n",
       "      <td>533</td>\n",
       "      <td>1043</td>\n",
       "      <td>257</td>\n",
       "      <td>1021</td>\n",
       "    </tr>\n",
       "    <tr>\n",
       "      <th>4</th>\n",
       "      <td>1178</td>\n",
       "      <td>207</td>\n",
       "      <td>1258</td>\n",
       "      <td>1585</td>\n",
       "      <td>1601</td>\n",
       "      <td>126</td>\n",
       "      <td>530</td>\n",
       "      <td>442</td>\n",
       "      <td>1002</td>\n",
       "      <td>207</td>\n",
       "      <td>...</td>\n",
       "      <td>1571</td>\n",
       "      <td>526</td>\n",
       "      <td>1742</td>\n",
       "      <td>1542</td>\n",
       "      <td>1978</td>\n",
       "      <td>967</td>\n",
       "      <td>674</td>\n",
       "      <td>1274</td>\n",
       "      <td>1813</td>\n",
       "      <td>1666</td>\n",
       "    </tr>\n",
       "    <tr>\n",
       "      <th>...</th>\n",
       "      <td>...</td>\n",
       "      <td>...</td>\n",
       "      <td>...</td>\n",
       "      <td>...</td>\n",
       "      <td>...</td>\n",
       "      <td>...</td>\n",
       "      <td>...</td>\n",
       "      <td>...</td>\n",
       "      <td>...</td>\n",
       "      <td>...</td>\n",
       "      <td>...</td>\n",
       "      <td>...</td>\n",
       "      <td>...</td>\n",
       "      <td>...</td>\n",
       "      <td>...</td>\n",
       "      <td>...</td>\n",
       "      <td>...</td>\n",
       "      <td>...</td>\n",
       "      <td>...</td>\n",
       "      <td>...</td>\n",
       "      <td>...</td>\n",
       "    </tr>\n",
       "    <tr>\n",
       "      <th>995</th>\n",
       "      <td>1285</td>\n",
       "      <td>906</td>\n",
       "      <td>1779</td>\n",
       "      <td>1888</td>\n",
       "      <td>362</td>\n",
       "      <td>408</td>\n",
       "      <td>1177</td>\n",
       "      <td>1988</td>\n",
       "      <td>1132</td>\n",
       "      <td>1017</td>\n",
       "      <td>...</td>\n",
       "      <td>159</td>\n",
       "      <td>730</td>\n",
       "      <td>1092</td>\n",
       "      <td>1866</td>\n",
       "      <td>1047</td>\n",
       "      <td>1872</td>\n",
       "      <td>1297</td>\n",
       "      <td>790</td>\n",
       "      <td>1210</td>\n",
       "      <td>1746</td>\n",
       "    </tr>\n",
       "    <tr>\n",
       "      <th>996</th>\n",
       "      <td>551</td>\n",
       "      <td>1861</td>\n",
       "      <td>1740</td>\n",
       "      <td>1214</td>\n",
       "      <td>1488</td>\n",
       "      <td>1346</td>\n",
       "      <td>383</td>\n",
       "      <td>1647</td>\n",
       "      <td>1931</td>\n",
       "      <td>464</td>\n",
       "      <td>...</td>\n",
       "      <td>1515</td>\n",
       "      <td>1736</td>\n",
       "      <td>1609</td>\n",
       "      <td>617</td>\n",
       "      <td>1347</td>\n",
       "      <td>1776</td>\n",
       "      <td>1632</td>\n",
       "      <td>1870</td>\n",
       "      <td>661</td>\n",
       "      <td>1562</td>\n",
       "    </tr>\n",
       "    <tr>\n",
       "      <th>997</th>\n",
       "      <td>1696</td>\n",
       "      <td>434</td>\n",
       "      <td>1699</td>\n",
       "      <td>1344</td>\n",
       "      <td>789</td>\n",
       "      <td>1192</td>\n",
       "      <td>1448</td>\n",
       "      <td>419</td>\n",
       "      <td>561</td>\n",
       "      <td>1300</td>\n",
       "      <td>...</td>\n",
       "      <td>990</td>\n",
       "      <td>1357</td>\n",
       "      <td>1551</td>\n",
       "      <td>883</td>\n",
       "      <td>1418</td>\n",
       "      <td>1714</td>\n",
       "      <td>949</td>\n",
       "      <td>1165</td>\n",
       "      <td>325</td>\n",
       "      <td>1097</td>\n",
       "    </tr>\n",
       "    <tr>\n",
       "      <th>998</th>\n",
       "      <td>1223</td>\n",
       "      <td>332</td>\n",
       "      <td>1139</td>\n",
       "      <td>522</td>\n",
       "      <td>696</td>\n",
       "      <td>836</td>\n",
       "      <td>781</td>\n",
       "      <td>1444</td>\n",
       "      <td>1604</td>\n",
       "      <td>839</td>\n",
       "      <td>...</td>\n",
       "      <td>924</td>\n",
       "      <td>529</td>\n",
       "      <td>1422</td>\n",
       "      <td>1186</td>\n",
       "      <td>755</td>\n",
       "      <td>1523</td>\n",
       "      <td>1345</td>\n",
       "      <td>1078</td>\n",
       "      <td>643</td>\n",
       "      <td>1605</td>\n",
       "    </tr>\n",
       "    <tr>\n",
       "      <th>999</th>\n",
       "      <td>1347</td>\n",
       "      <td>1344</td>\n",
       "      <td>417</td>\n",
       "      <td>396</td>\n",
       "      <td>1270</td>\n",
       "      <td>1228</td>\n",
       "      <td>1172</td>\n",
       "      <td>590</td>\n",
       "      <td>1378</td>\n",
       "      <td>1088</td>\n",
       "      <td>...</td>\n",
       "      <td>280</td>\n",
       "      <td>1532</td>\n",
       "      <td>151</td>\n",
       "      <td>423</td>\n",
       "      <td>1248</td>\n",
       "      <td>1785</td>\n",
       "      <td>1466</td>\n",
       "      <td>1532</td>\n",
       "      <td>109</td>\n",
       "      <td>838</td>\n",
       "    </tr>\n",
       "  </tbody>\n",
       "</table>\n",
       "<p>1000 rows × 100 columns</p>\n",
       "</div>"
      ],
      "text/plain": [
       "       0     1     2     3     4     5     6     7     8     9   ...    90  \\\n",
       "0    1408   304  1688  1244   559   608   901  1922   970  1894  ...  1907   \n",
       "1    1777   853  1298  1463  1256  1703   418  1281   505  1950  ...   279   \n",
       "2    1600  1325   248  1610  1339   224  1552  1367   287   429  ...  1591   \n",
       "3     152  1769  1505   334   347  1950   584  1210  1944   739  ...   973   \n",
       "4    1178   207  1258  1585  1601   126   530   442  1002   207  ...  1571   \n",
       "..    ...   ...   ...   ...   ...   ...   ...   ...   ...   ...  ...   ...   \n",
       "995  1285   906  1779  1888   362   408  1177  1988  1132  1017  ...   159   \n",
       "996   551  1861  1740  1214  1488  1346   383  1647  1931   464  ...  1515   \n",
       "997  1696   434  1699  1344   789  1192  1448   419   561  1300  ...   990   \n",
       "998  1223   332  1139   522   696   836   781  1444  1604   839  ...   924   \n",
       "999  1347  1344   417   396  1270  1228  1172   590  1378  1088  ...   280   \n",
       "\n",
       "       91    92    93    94    95    96    97    98    99  \n",
       "0     798  1267   571  1765  1856   948  1858  1119   805  \n",
       "1    1326   988  1536  1839   610  1472   665   148  1584  \n",
       "2    1687  1072   937   229  1805   523   867  1323  1778  \n",
       "3     262   704   918   853  1818   533  1043   257  1021  \n",
       "4     526  1742  1542  1978   967   674  1274  1813  1666  \n",
       "..    ...   ...   ...   ...   ...   ...   ...   ...   ...  \n",
       "995   730  1092  1866  1047  1872  1297   790  1210  1746  \n",
       "996  1736  1609   617  1347  1776  1632  1870   661  1562  \n",
       "997  1357  1551   883  1418  1714   949  1165   325  1097  \n",
       "998   529  1422  1186   755  1523  1345  1078   643  1605  \n",
       "999  1532   151   423  1248  1785  1466  1532   109   838  \n",
       "\n",
       "[1000 rows x 100 columns]"
      ]
     },
     "execution_count": 35,
     "metadata": {},
     "output_type": "execute_result"
    }
   ],
   "source": [
    "df = pd.DataFrame(arr)\n",
    "\n",
    "df"
   ]
  },
  {
   "cell_type": "code",
   "execution_count": 36,
   "id": "55323a6d",
   "metadata": {},
   "outputs": [
    {
     "data": {
      "text/html": [
       "<div>\n",
       "<style scoped>\n",
       "    .dataframe tbody tr th:only-of-type {\n",
       "        vertical-align: middle;\n",
       "    }\n",
       "\n",
       "    .dataframe tbody tr th {\n",
       "        vertical-align: top;\n",
       "    }\n",
       "\n",
       "    .dataframe thead th {\n",
       "        text-align: right;\n",
       "    }\n",
       "</style>\n",
       "<table border=\"1\" class=\"dataframe\">\n",
       "  <thead>\n",
       "    <tr style=\"text-align: right;\">\n",
       "      <th></th>\n",
       "      <th>col_1</th>\n",
       "      <th>col_2</th>\n",
       "      <th>col_3</th>\n",
       "      <th>col_4</th>\n",
       "      <th>col_5</th>\n",
       "      <th>col_6</th>\n",
       "      <th>col_7</th>\n",
       "      <th>col_8</th>\n",
       "      <th>col_9</th>\n",
       "      <th>col_10</th>\n",
       "      <th>...</th>\n",
       "      <th>col_91</th>\n",
       "      <th>col_92</th>\n",
       "      <th>col_93</th>\n",
       "      <th>col_94</th>\n",
       "      <th>col_95</th>\n",
       "      <th>col_96</th>\n",
       "      <th>col_97</th>\n",
       "      <th>col_98</th>\n",
       "      <th>col_99</th>\n",
       "      <th>col_100</th>\n",
       "    </tr>\n",
       "  </thead>\n",
       "  <tbody>\n",
       "    <tr>\n",
       "      <th>0</th>\n",
       "      <td>1408</td>\n",
       "      <td>304</td>\n",
       "      <td>1688</td>\n",
       "      <td>1244</td>\n",
       "      <td>559</td>\n",
       "      <td>608</td>\n",
       "      <td>901</td>\n",
       "      <td>1922</td>\n",
       "      <td>970</td>\n",
       "      <td>1894</td>\n",
       "      <td>...</td>\n",
       "      <td>1907</td>\n",
       "      <td>798</td>\n",
       "      <td>1267</td>\n",
       "      <td>571</td>\n",
       "      <td>1765</td>\n",
       "      <td>1856</td>\n",
       "      <td>948</td>\n",
       "      <td>1858</td>\n",
       "      <td>1119</td>\n",
       "      <td>805</td>\n",
       "    </tr>\n",
       "    <tr>\n",
       "      <th>1</th>\n",
       "      <td>1777</td>\n",
       "      <td>853</td>\n",
       "      <td>1298</td>\n",
       "      <td>1463</td>\n",
       "      <td>1256</td>\n",
       "      <td>1703</td>\n",
       "      <td>418</td>\n",
       "      <td>1281</td>\n",
       "      <td>505</td>\n",
       "      <td>1950</td>\n",
       "      <td>...</td>\n",
       "      <td>279</td>\n",
       "      <td>1326</td>\n",
       "      <td>988</td>\n",
       "      <td>1536</td>\n",
       "      <td>1839</td>\n",
       "      <td>610</td>\n",
       "      <td>1472</td>\n",
       "      <td>665</td>\n",
       "      <td>148</td>\n",
       "      <td>1584</td>\n",
       "    </tr>\n",
       "    <tr>\n",
       "      <th>2</th>\n",
       "      <td>1600</td>\n",
       "      <td>1325</td>\n",
       "      <td>248</td>\n",
       "      <td>1610</td>\n",
       "      <td>1339</td>\n",
       "      <td>224</td>\n",
       "      <td>1552</td>\n",
       "      <td>1367</td>\n",
       "      <td>287</td>\n",
       "      <td>429</td>\n",
       "      <td>...</td>\n",
       "      <td>1591</td>\n",
       "      <td>1687</td>\n",
       "      <td>1072</td>\n",
       "      <td>937</td>\n",
       "      <td>229</td>\n",
       "      <td>1805</td>\n",
       "      <td>523</td>\n",
       "      <td>867</td>\n",
       "      <td>1323</td>\n",
       "      <td>1778</td>\n",
       "    </tr>\n",
       "    <tr>\n",
       "      <th>3</th>\n",
       "      <td>152</td>\n",
       "      <td>1769</td>\n",
       "      <td>1505</td>\n",
       "      <td>334</td>\n",
       "      <td>347</td>\n",
       "      <td>1950</td>\n",
       "      <td>584</td>\n",
       "      <td>1210</td>\n",
       "      <td>1944</td>\n",
       "      <td>739</td>\n",
       "      <td>...</td>\n",
       "      <td>973</td>\n",
       "      <td>262</td>\n",
       "      <td>704</td>\n",
       "      <td>918</td>\n",
       "      <td>853</td>\n",
       "      <td>1818</td>\n",
       "      <td>533</td>\n",
       "      <td>1043</td>\n",
       "      <td>257</td>\n",
       "      <td>1021</td>\n",
       "    </tr>\n",
       "    <tr>\n",
       "      <th>4</th>\n",
       "      <td>1178</td>\n",
       "      <td>207</td>\n",
       "      <td>1258</td>\n",
       "      <td>1585</td>\n",
       "      <td>1601</td>\n",
       "      <td>126</td>\n",
       "      <td>530</td>\n",
       "      <td>442</td>\n",
       "      <td>1002</td>\n",
       "      <td>207</td>\n",
       "      <td>...</td>\n",
       "      <td>1571</td>\n",
       "      <td>526</td>\n",
       "      <td>1742</td>\n",
       "      <td>1542</td>\n",
       "      <td>1978</td>\n",
       "      <td>967</td>\n",
       "      <td>674</td>\n",
       "      <td>1274</td>\n",
       "      <td>1813</td>\n",
       "      <td>1666</td>\n",
       "    </tr>\n",
       "    <tr>\n",
       "      <th>...</th>\n",
       "      <td>...</td>\n",
       "      <td>...</td>\n",
       "      <td>...</td>\n",
       "      <td>...</td>\n",
       "      <td>...</td>\n",
       "      <td>...</td>\n",
       "      <td>...</td>\n",
       "      <td>...</td>\n",
       "      <td>...</td>\n",
       "      <td>...</td>\n",
       "      <td>...</td>\n",
       "      <td>...</td>\n",
       "      <td>...</td>\n",
       "      <td>...</td>\n",
       "      <td>...</td>\n",
       "      <td>...</td>\n",
       "      <td>...</td>\n",
       "      <td>...</td>\n",
       "      <td>...</td>\n",
       "      <td>...</td>\n",
       "      <td>...</td>\n",
       "    </tr>\n",
       "    <tr>\n",
       "      <th>995</th>\n",
       "      <td>1285</td>\n",
       "      <td>906</td>\n",
       "      <td>1779</td>\n",
       "      <td>1888</td>\n",
       "      <td>362</td>\n",
       "      <td>408</td>\n",
       "      <td>1177</td>\n",
       "      <td>1988</td>\n",
       "      <td>1132</td>\n",
       "      <td>1017</td>\n",
       "      <td>...</td>\n",
       "      <td>159</td>\n",
       "      <td>730</td>\n",
       "      <td>1092</td>\n",
       "      <td>1866</td>\n",
       "      <td>1047</td>\n",
       "      <td>1872</td>\n",
       "      <td>1297</td>\n",
       "      <td>790</td>\n",
       "      <td>1210</td>\n",
       "      <td>1746</td>\n",
       "    </tr>\n",
       "    <tr>\n",
       "      <th>996</th>\n",
       "      <td>551</td>\n",
       "      <td>1861</td>\n",
       "      <td>1740</td>\n",
       "      <td>1214</td>\n",
       "      <td>1488</td>\n",
       "      <td>1346</td>\n",
       "      <td>383</td>\n",
       "      <td>1647</td>\n",
       "      <td>1931</td>\n",
       "      <td>464</td>\n",
       "      <td>...</td>\n",
       "      <td>1515</td>\n",
       "      <td>1736</td>\n",
       "      <td>1609</td>\n",
       "      <td>617</td>\n",
       "      <td>1347</td>\n",
       "      <td>1776</td>\n",
       "      <td>1632</td>\n",
       "      <td>1870</td>\n",
       "      <td>661</td>\n",
       "      <td>1562</td>\n",
       "    </tr>\n",
       "    <tr>\n",
       "      <th>997</th>\n",
       "      <td>1696</td>\n",
       "      <td>434</td>\n",
       "      <td>1699</td>\n",
       "      <td>1344</td>\n",
       "      <td>789</td>\n",
       "      <td>1192</td>\n",
       "      <td>1448</td>\n",
       "      <td>419</td>\n",
       "      <td>561</td>\n",
       "      <td>1300</td>\n",
       "      <td>...</td>\n",
       "      <td>990</td>\n",
       "      <td>1357</td>\n",
       "      <td>1551</td>\n",
       "      <td>883</td>\n",
       "      <td>1418</td>\n",
       "      <td>1714</td>\n",
       "      <td>949</td>\n",
       "      <td>1165</td>\n",
       "      <td>325</td>\n",
       "      <td>1097</td>\n",
       "    </tr>\n",
       "    <tr>\n",
       "      <th>998</th>\n",
       "      <td>1223</td>\n",
       "      <td>332</td>\n",
       "      <td>1139</td>\n",
       "      <td>522</td>\n",
       "      <td>696</td>\n",
       "      <td>836</td>\n",
       "      <td>781</td>\n",
       "      <td>1444</td>\n",
       "      <td>1604</td>\n",
       "      <td>839</td>\n",
       "      <td>...</td>\n",
       "      <td>924</td>\n",
       "      <td>529</td>\n",
       "      <td>1422</td>\n",
       "      <td>1186</td>\n",
       "      <td>755</td>\n",
       "      <td>1523</td>\n",
       "      <td>1345</td>\n",
       "      <td>1078</td>\n",
       "      <td>643</td>\n",
       "      <td>1605</td>\n",
       "    </tr>\n",
       "    <tr>\n",
       "      <th>999</th>\n",
       "      <td>1347</td>\n",
       "      <td>1344</td>\n",
       "      <td>417</td>\n",
       "      <td>396</td>\n",
       "      <td>1270</td>\n",
       "      <td>1228</td>\n",
       "      <td>1172</td>\n",
       "      <td>590</td>\n",
       "      <td>1378</td>\n",
       "      <td>1088</td>\n",
       "      <td>...</td>\n",
       "      <td>280</td>\n",
       "      <td>1532</td>\n",
       "      <td>151</td>\n",
       "      <td>423</td>\n",
       "      <td>1248</td>\n",
       "      <td>1785</td>\n",
       "      <td>1466</td>\n",
       "      <td>1532</td>\n",
       "      <td>109</td>\n",
       "      <td>838</td>\n",
       "    </tr>\n",
       "  </tbody>\n",
       "</table>\n",
       "<p>1000 rows × 100 columns</p>\n",
       "</div>"
      ],
      "text/plain": [
       "     col_1  col_2  col_3  col_4  col_5  col_6  col_7  col_8  col_9  col_10  \\\n",
       "0     1408    304   1688   1244    559    608    901   1922    970    1894   \n",
       "1     1777    853   1298   1463   1256   1703    418   1281    505    1950   \n",
       "2     1600   1325    248   1610   1339    224   1552   1367    287     429   \n",
       "3      152   1769   1505    334    347   1950    584   1210   1944     739   \n",
       "4     1178    207   1258   1585   1601    126    530    442   1002     207   \n",
       "..     ...    ...    ...    ...    ...    ...    ...    ...    ...     ...   \n",
       "995   1285    906   1779   1888    362    408   1177   1988   1132    1017   \n",
       "996    551   1861   1740   1214   1488   1346    383   1647   1931     464   \n",
       "997   1696    434   1699   1344    789   1192   1448    419    561    1300   \n",
       "998   1223    332   1139    522    696    836    781   1444   1604     839   \n",
       "999   1347   1344    417    396   1270   1228   1172    590   1378    1088   \n",
       "\n",
       "     ...  col_91  col_92  col_93  col_94  col_95  col_96  col_97  col_98  \\\n",
       "0    ...    1907     798    1267     571    1765    1856     948    1858   \n",
       "1    ...     279    1326     988    1536    1839     610    1472     665   \n",
       "2    ...    1591    1687    1072     937     229    1805     523     867   \n",
       "3    ...     973     262     704     918     853    1818     533    1043   \n",
       "4    ...    1571     526    1742    1542    1978     967     674    1274   \n",
       "..   ...     ...     ...     ...     ...     ...     ...     ...     ...   \n",
       "995  ...     159     730    1092    1866    1047    1872    1297     790   \n",
       "996  ...    1515    1736    1609     617    1347    1776    1632    1870   \n",
       "997  ...     990    1357    1551     883    1418    1714     949    1165   \n",
       "998  ...     924     529    1422    1186     755    1523    1345    1078   \n",
       "999  ...     280    1532     151     423    1248    1785    1466    1532   \n",
       "\n",
       "     col_99  col_100  \n",
       "0      1119      805  \n",
       "1       148     1584  \n",
       "2      1323     1778  \n",
       "3       257     1021  \n",
       "4      1813     1666  \n",
       "..      ...      ...  \n",
       "995    1210     1746  \n",
       "996     661     1562  \n",
       "997     325     1097  \n",
       "998     643     1605  \n",
       "999     109      838  \n",
       "\n",
       "[1000 rows x 100 columns]"
      ]
     },
     "execution_count": 36,
     "metadata": {},
     "output_type": "execute_result"
    }
   ],
   "source": [
    "df = pd.DataFrame(arr, columns=[\"col_\"+str(i) for i in range(1, 101) ])\n",
    "\n",
    "df"
   ]
  },
  {
   "cell_type": "markdown",
   "id": "e200d188",
   "metadata": {},
   "source": [
    "## Accessing Attributes/Properties and Methods of DataFrame"
   ]
  },
  {
   "cell_type": "code",
   "execution_count": 37,
   "id": "4af77bb2",
   "metadata": {},
   "outputs": [
    {
     "data": {
      "text/html": [
       "<div>\n",
       "<style scoped>\n",
       "    .dataframe tbody tr th:only-of-type {\n",
       "        vertical-align: middle;\n",
       "    }\n",
       "\n",
       "    .dataframe tbody tr th {\n",
       "        vertical-align: top;\n",
       "    }\n",
       "\n",
       "    .dataframe thead th {\n",
       "        text-align: right;\n",
       "    }\n",
       "</style>\n",
       "<table border=\"1\" class=\"dataframe\">\n",
       "  <thead>\n",
       "    <tr style=\"text-align: right;\">\n",
       "      <th></th>\n",
       "      <th>Name</th>\n",
       "      <th>Age</th>\n",
       "      <th>Rating</th>\n",
       "    </tr>\n",
       "  </thead>\n",
       "  <tbody>\n",
       "    <tr>\n",
       "      <th>0</th>\n",
       "      <td>Tom</td>\n",
       "      <td>25</td>\n",
       "      <td>4.23</td>\n",
       "    </tr>\n",
       "    <tr>\n",
       "      <th>1</th>\n",
       "      <td>Jack</td>\n",
       "      <td>26</td>\n",
       "      <td>4.10</td>\n",
       "    </tr>\n",
       "    <tr>\n",
       "      <th>2</th>\n",
       "      <td>Steve</td>\n",
       "      <td>25</td>\n",
       "      <td>3.40</td>\n",
       "    </tr>\n",
       "    <tr>\n",
       "      <th>3</th>\n",
       "      <td>Ricky</td>\n",
       "      <td>35</td>\n",
       "      <td>5.00</td>\n",
       "    </tr>\n",
       "    <tr>\n",
       "      <th>4</th>\n",
       "      <td>Vin</td>\n",
       "      <td>23</td>\n",
       "      <td>2.90</td>\n",
       "    </tr>\n",
       "    <tr>\n",
       "      <th>5</th>\n",
       "      <td>James</td>\n",
       "      <td>33</td>\n",
       "      <td>NaN</td>\n",
       "    </tr>\n",
       "    <tr>\n",
       "      <th>6</th>\n",
       "      <td>Vin</td>\n",
       "      <td>31</td>\n",
       "      <td>3.10</td>\n",
       "    </tr>\n",
       "  </tbody>\n",
       "</table>\n",
       "</div>"
      ],
      "text/plain": [
       "    Name  Age  Rating\n",
       "0    Tom   25    4.23\n",
       "1   Jack   26    4.10\n",
       "2  Steve   25    3.40\n",
       "3  Ricky   35    5.00\n",
       "4    Vin   23    2.90\n",
       "5  James   33     NaN\n",
       "6    Vin   31    3.10"
      ]
     },
     "execution_count": 37,
     "metadata": {},
     "output_type": "execute_result"
    }
   ],
   "source": [
    "data = {'Name':pd.Series(['Tom', 'Jack', 'Steve', 'Ricky', 'Vin', 'James', 'Vin']),\n",
    "       'Age':pd.Series([25,26,25,35,23,33,31]),\n",
    "       'Rating':pd.Series([4.23,4.1,3.4,5,2.9,np.nan,3.1])}\n",
    "\n",
    "df = pd.DataFrame(data)\n",
    "\n",
    "df"
   ]
  },
  {
   "cell_type": "code",
   "execution_count": 38,
   "id": "df8712e5",
   "metadata": {},
   "outputs": [
    {
     "name": "stdout",
     "output_type": "stream",
     "text": [
      "<class 'pandas.core.frame.DataFrame'>\n",
      "RangeIndex: 7 entries, 0 to 6\n",
      "Data columns (total 3 columns):\n",
      " #   Column  Non-Null Count  Dtype  \n",
      "---  ------  --------------  -----  \n",
      " 0   Name    7 non-null      object \n",
      " 1   Age     7 non-null      int64  \n",
      " 2   Rating  6 non-null      float64\n",
      "dtypes: float64(1), int64(1), object(1)\n",
      "memory usage: 296.0+ bytes\n"
     ]
    }
   ],
   "source": [
    "df.info()"
   ]
  },
  {
   "cell_type": "code",
   "execution_count": 39,
   "id": "d165d538",
   "metadata": {},
   "outputs": [
    {
     "data": {
      "text/html": [
       "<div>\n",
       "<style scoped>\n",
       "    .dataframe tbody tr th:only-of-type {\n",
       "        vertical-align: middle;\n",
       "    }\n",
       "\n",
       "    .dataframe tbody tr th {\n",
       "        vertical-align: top;\n",
       "    }\n",
       "\n",
       "    .dataframe thead th {\n",
       "        text-align: right;\n",
       "    }\n",
       "</style>\n",
       "<table border=\"1\" class=\"dataframe\">\n",
       "  <thead>\n",
       "    <tr style=\"text-align: right;\">\n",
       "      <th></th>\n",
       "      <th>Name</th>\n",
       "      <th>Age</th>\n",
       "      <th>Rating</th>\n",
       "    </tr>\n",
       "  </thead>\n",
       "  <tbody>\n",
       "    <tr>\n",
       "      <th>0</th>\n",
       "      <td>Tom</td>\n",
       "      <td>25</td>\n",
       "      <td>4.23</td>\n",
       "    </tr>\n",
       "    <tr>\n",
       "      <th>1</th>\n",
       "      <td>Jack</td>\n",
       "      <td>26</td>\n",
       "      <td>4.10</td>\n",
       "    </tr>\n",
       "    <tr>\n",
       "      <th>2</th>\n",
       "      <td>Steve</td>\n",
       "      <td>25</td>\n",
       "      <td>3.40</td>\n",
       "    </tr>\n",
       "    <tr>\n",
       "      <th>3</th>\n",
       "      <td>Ricky</td>\n",
       "      <td>35</td>\n",
       "      <td>5.00</td>\n",
       "    </tr>\n",
       "    <tr>\n",
       "      <th>4</th>\n",
       "      <td>Vin</td>\n",
       "      <td>23</td>\n",
       "      <td>2.90</td>\n",
       "    </tr>\n",
       "  </tbody>\n",
       "</table>\n",
       "</div>"
      ],
      "text/plain": [
       "    Name  Age  Rating\n",
       "0    Tom   25    4.23\n",
       "1   Jack   26    4.10\n",
       "2  Steve   25    3.40\n",
       "3  Ricky   35    5.00\n",
       "4    Vin   23    2.90"
      ]
     },
     "execution_count": 39,
     "metadata": {},
     "output_type": "execute_result"
    }
   ],
   "source": [
    "df.head()"
   ]
  },
  {
   "cell_type": "code",
   "execution_count": 40,
   "id": "959d4922",
   "metadata": {},
   "outputs": [
    {
     "data": {
      "text/html": [
       "<div>\n",
       "<style scoped>\n",
       "    .dataframe tbody tr th:only-of-type {\n",
       "        vertical-align: middle;\n",
       "    }\n",
       "\n",
       "    .dataframe tbody tr th {\n",
       "        vertical-align: top;\n",
       "    }\n",
       "\n",
       "    .dataframe thead th {\n",
       "        text-align: right;\n",
       "    }\n",
       "</style>\n",
       "<table border=\"1\" class=\"dataframe\">\n",
       "  <thead>\n",
       "    <tr style=\"text-align: right;\">\n",
       "      <th></th>\n",
       "      <th>Name</th>\n",
       "      <th>Age</th>\n",
       "      <th>Rating</th>\n",
       "    </tr>\n",
       "  </thead>\n",
       "  <tbody>\n",
       "    <tr>\n",
       "      <th>0</th>\n",
       "      <td>Tom</td>\n",
       "      <td>25</td>\n",
       "      <td>4.23</td>\n",
       "    </tr>\n",
       "    <tr>\n",
       "      <th>1</th>\n",
       "      <td>Jack</td>\n",
       "      <td>26</td>\n",
       "      <td>4.10</td>\n",
       "    </tr>\n",
       "  </tbody>\n",
       "</table>\n",
       "</div>"
      ],
      "text/plain": [
       "   Name  Age  Rating\n",
       "0   Tom   25    4.23\n",
       "1  Jack   26    4.10"
      ]
     },
     "execution_count": 40,
     "metadata": {},
     "output_type": "execute_result"
    }
   ],
   "source": [
    "df.head(2)"
   ]
  },
  {
   "cell_type": "code",
   "execution_count": 41,
   "id": "f8250c06",
   "metadata": {},
   "outputs": [
    {
     "data": {
      "text/html": [
       "<div>\n",
       "<style scoped>\n",
       "    .dataframe tbody tr th:only-of-type {\n",
       "        vertical-align: middle;\n",
       "    }\n",
       "\n",
       "    .dataframe tbody tr th {\n",
       "        vertical-align: top;\n",
       "    }\n",
       "\n",
       "    .dataframe thead th {\n",
       "        text-align: right;\n",
       "    }\n",
       "</style>\n",
       "<table border=\"1\" class=\"dataframe\">\n",
       "  <thead>\n",
       "    <tr style=\"text-align: right;\">\n",
       "      <th></th>\n",
       "      <th>Name</th>\n",
       "      <th>Age</th>\n",
       "      <th>Rating</th>\n",
       "    </tr>\n",
       "  </thead>\n",
       "  <tbody>\n",
       "    <tr>\n",
       "      <th>2</th>\n",
       "      <td>Steve</td>\n",
       "      <td>25</td>\n",
       "      <td>3.4</td>\n",
       "    </tr>\n",
       "    <tr>\n",
       "      <th>3</th>\n",
       "      <td>Ricky</td>\n",
       "      <td>35</td>\n",
       "      <td>5.0</td>\n",
       "    </tr>\n",
       "    <tr>\n",
       "      <th>4</th>\n",
       "      <td>Vin</td>\n",
       "      <td>23</td>\n",
       "      <td>2.9</td>\n",
       "    </tr>\n",
       "    <tr>\n",
       "      <th>5</th>\n",
       "      <td>James</td>\n",
       "      <td>33</td>\n",
       "      <td>NaN</td>\n",
       "    </tr>\n",
       "    <tr>\n",
       "      <th>6</th>\n",
       "      <td>Vin</td>\n",
       "      <td>31</td>\n",
       "      <td>3.1</td>\n",
       "    </tr>\n",
       "  </tbody>\n",
       "</table>\n",
       "</div>"
      ],
      "text/plain": [
       "    Name  Age  Rating\n",
       "2  Steve   25     3.4\n",
       "3  Ricky   35     5.0\n",
       "4    Vin   23     2.9\n",
       "5  James   33     NaN\n",
       "6    Vin   31     3.1"
      ]
     },
     "execution_count": 41,
     "metadata": {},
     "output_type": "execute_result"
    }
   ],
   "source": [
    "df.tail()"
   ]
  },
  {
   "cell_type": "code",
   "execution_count": 42,
   "id": "a5a3db4e",
   "metadata": {},
   "outputs": [
    {
     "data": {
      "text/html": [
       "<div>\n",
       "<style scoped>\n",
       "    .dataframe tbody tr th:only-of-type {\n",
       "        vertical-align: middle;\n",
       "    }\n",
       "\n",
       "    .dataframe tbody tr th {\n",
       "        vertical-align: top;\n",
       "    }\n",
       "\n",
       "    .dataframe thead th {\n",
       "        text-align: right;\n",
       "    }\n",
       "</style>\n",
       "<table border=\"1\" class=\"dataframe\">\n",
       "  <thead>\n",
       "    <tr style=\"text-align: right;\">\n",
       "      <th></th>\n",
       "      <th>Name</th>\n",
       "      <th>Age</th>\n",
       "      <th>Rating</th>\n",
       "    </tr>\n",
       "  </thead>\n",
       "  <tbody>\n",
       "    <tr>\n",
       "      <th>5</th>\n",
       "      <td>James</td>\n",
       "      <td>33</td>\n",
       "      <td>NaN</td>\n",
       "    </tr>\n",
       "    <tr>\n",
       "      <th>6</th>\n",
       "      <td>Vin</td>\n",
       "      <td>31</td>\n",
       "      <td>3.1</td>\n",
       "    </tr>\n",
       "  </tbody>\n",
       "</table>\n",
       "</div>"
      ],
      "text/plain": [
       "    Name  Age  Rating\n",
       "5  James   33     NaN\n",
       "6    Vin   31     3.1"
      ]
     },
     "execution_count": 42,
     "metadata": {},
     "output_type": "execute_result"
    }
   ],
   "source": [
    "df.tail(2)"
   ]
  },
  {
   "cell_type": "markdown",
   "id": "f1c4012e",
   "metadata": {},
   "source": [
    "## Dataframe to .csv & .xlsx"
   ]
  },
  {
   "cell_type": "code",
   "execution_count": 44,
   "id": "6f4cd4da",
   "metadata": {},
   "outputs": [],
   "source": [
    "# Write Dataframe to CSV\n",
    "df.to_csv('C:/Users/vaishnav yadav/Downloads/20211030 Test Assignment-20240817T195938Z-001/new_csv_file.csv')"
   ]
  },
  {
   "cell_type": "markdown",
   "id": "3594b084",
   "metadata": {},
   "source": [
    "## Reading .csv File - Iris Dataset"
   ]
  },
  {
   "cell_type": "code",
   "execution_count": 45,
   "id": "53cc6ac1",
   "metadata": {},
   "outputs": [
    {
     "data": {
      "text/html": [
       "<div>\n",
       "<style scoped>\n",
       "    .dataframe tbody tr th:only-of-type {\n",
       "        vertical-align: middle;\n",
       "    }\n",
       "\n",
       "    .dataframe tbody tr th {\n",
       "        vertical-align: top;\n",
       "    }\n",
       "\n",
       "    .dataframe thead th {\n",
       "        text-align: right;\n",
       "    }\n",
       "</style>\n",
       "<table border=\"1\" class=\"dataframe\">\n",
       "  <thead>\n",
       "    <tr style=\"text-align: right;\">\n",
       "      <th></th>\n",
       "      <th>SepalLengthCm</th>\n",
       "      <th>SepalWidthCm</th>\n",
       "      <th>PetalLengthCm</th>\n",
       "      <th>PetalWidthCm</th>\n",
       "      <th>Species</th>\n",
       "    </tr>\n",
       "  </thead>\n",
       "  <tbody>\n",
       "    <tr>\n",
       "      <th>0</th>\n",
       "      <td>5.1</td>\n",
       "      <td>3.5</td>\n",
       "      <td>1.4</td>\n",
       "      <td>0.2</td>\n",
       "      <td>Iris-setosa</td>\n",
       "    </tr>\n",
       "    <tr>\n",
       "      <th>1</th>\n",
       "      <td>4.9</td>\n",
       "      <td>3.0</td>\n",
       "      <td>1.4</td>\n",
       "      <td>0.2</td>\n",
       "      <td>Iris-setosa</td>\n",
       "    </tr>\n",
       "    <tr>\n",
       "      <th>2</th>\n",
       "      <td>4.7</td>\n",
       "      <td>3.2</td>\n",
       "      <td>1.3</td>\n",
       "      <td>0.2</td>\n",
       "      <td>Iris-setosa</td>\n",
       "    </tr>\n",
       "    <tr>\n",
       "      <th>3</th>\n",
       "      <td>4.6</td>\n",
       "      <td>3.1</td>\n",
       "      <td>1.5</td>\n",
       "      <td>0.2</td>\n",
       "      <td>Iris-setosa</td>\n",
       "    </tr>\n",
       "    <tr>\n",
       "      <th>4</th>\n",
       "      <td>5.0</td>\n",
       "      <td>3.6</td>\n",
       "      <td>1.4</td>\n",
       "      <td>0.2</td>\n",
       "      <td>Iris-setosa</td>\n",
       "    </tr>\n",
       "  </tbody>\n",
       "</table>\n",
       "</div>"
      ],
      "text/plain": [
       "   SepalLengthCm  SepalWidthCm  PetalLengthCm  PetalWidthCm      Species\n",
       "0            5.1           3.5            1.4           0.2  Iris-setosa\n",
       "1            4.9           3.0            1.4           0.2  Iris-setosa\n",
       "2            4.7           3.2            1.3           0.2  Iris-setosa\n",
       "3            4.6           3.1            1.5           0.2  Iris-setosa\n",
       "4            5.0           3.6            1.4           0.2  Iris-setosa"
      ]
     },
     "execution_count": 45,
     "metadata": {},
     "output_type": "execute_result"
    }
   ],
   "source": [
    "import pandas as pd\n",
    "\n",
    "df = pd.read_csv('C:/Users/vaishnav yadav/Downloads/Iris.csv')\n",
    "\n",
    "df.head()"
   ]
  },
  {
   "cell_type": "code",
   "execution_count": null,
   "id": "ae290db6",
   "metadata": {},
   "outputs": [],
   "source": []
  }
 ],
 "metadata": {
  "kernelspec": {
   "display_name": "Python 3 (ipykernel)",
   "language": "python",
   "name": "python3"
  },
  "language_info": {
   "codemirror_mode": {
    "name": "ipython",
    "version": 3
   },
   "file_extension": ".py",
   "mimetype": "text/x-python",
   "name": "python",
   "nbconvert_exporter": "python",
   "pygments_lexer": "ipython3",
   "version": "3.10.9"
  }
 },
 "nbformat": 4,
 "nbformat_minor": 5
}
