{
 "cells": [
  {
   "cell_type": "markdown",
   "id": "43e8a990",
   "metadata": {},
   "source": [
    "# Installing Numpy and Numpy Array Creation "
   ]
  },
  {
   "cell_type": "code",
   "execution_count": 1,
   "id": "ab4da9fa",
   "metadata": {},
   "outputs": [
    {
     "name": "stdout",
     "output_type": "stream",
     "text": [
      "Requirement already satisfied: Numpy in c:\\users\\vaishnav yadav\\anaconda3\\lib\\site-packages (1.23.5)\n"
     ]
    }
   ],
   "source": [
    "#install pip pakage in the Jupyter Kernel\n",
    "! Pip install Numpy"
   ]
  },
  {
   "cell_type": "code",
   "execution_count": 2,
   "id": "3126cd8c",
   "metadata": {},
   "outputs": [
    {
     "name": "stdout",
     "output_type": "stream",
     "text": [
      "<class 'list'>\n",
      "list: [1, 2, 3, 4, 5, 6, 7]\n"
     ]
    }
   ],
   "source": [
    "lst=[1,2,3,4,5,6,7]\n",
    "print(type(lst))\n",
    "print(\"list:\", lst)"
   ]
  },
  {
   "cell_type": "code",
   "execution_count": 4,
   "id": "df070d95",
   "metadata": {},
   "outputs": [
    {
     "name": "stdout",
     "output_type": "stream",
     "text": [
      "<class 'numpy.ndarray'>\n",
      "Numpy array: [1 2 3 4 5 6 7]\n"
     ]
    }
   ],
   "source": [
    "import numpy as np \n",
    "arr=np.array(lst)\n",
    "print(type(arr))\n",
    "print(\"Numpy array:\", arr)"
   ]
  },
  {
   "cell_type": "code",
   "execution_count": 5,
   "id": "cac4dc88",
   "metadata": {},
   "outputs": [
    {
     "name": "stdout",
     "output_type": "stream",
     "text": [
      "<class 'numpy.ndarray'>\n",
      "Numpy Array: [0 1 2 3 4 5 6 7 8 9]\n"
     ]
    }
   ],
   "source": [
    "#creating a simple array in numpy using np.arange\n",
    "\n",
    "arr=np.arange(10)\n",
    "print(type(arr))\n",
    "print(\"Numpy Array:\", arr)"
   ]
  },
  {
   "cell_type": "markdown",
   "id": "87852c60",
   "metadata": {},
   "source": [
    "# Why Numpy?\n",
    ">Most powerful numerical processing library in python. Array Oriented computing.\n",
    ">Provides extension package to python for multi dimensional array.\n",
    ">Very efficient.\n",
    ">Scientific computation."
   ]
  },
  {
   "cell_type": "markdown",
   "id": "77c29bcb",
   "metadata": {},
   "source": [
    "# But why Numpy when we already have a list?"
   ]
  },
  {
   "cell_type": "code",
   "execution_count": 6,
   "id": "36c4a376",
   "metadata": {},
   "outputs": [
    {
     "name": "stdout",
     "output_type": "stream",
     "text": [
      "CPU times: total: 562 ms\n",
      "Wall time: 573 ms\n"
     ]
    }
   ],
   "source": [
    "%%time\n",
    "\n",
    "lst = list(range(1000000));\n",
    "\n",
    "for i in range(1000000):\n",
    "    lst[i] *= lst[i];"
   ]
  },
  {
   "cell_type": "code",
   "execution_count": 7,
   "id": "6b9e9488",
   "metadata": {},
   "outputs": [
    {
     "name": "stdout",
     "output_type": "stream",
     "text": [
      "CPU times: total: 0 ns\n",
      "Wall time: 11.1 ms\n"
     ]
    }
   ],
   "source": [
    "%%time\n",
    "\n",
    "arr = np.arange(1000000)\n",
    "\n",
    "arr = arr * arr\n"
   ]
  },
  {
   "cell_type": "markdown",
   "id": "3a7f1dec",
   "metadata": {},
   "source": [
    "# Numpy Array and It's Attributes/Properties\n"
   ]
  },
  {
   "cell_type": "code",
   "execution_count": 17,
   "id": "e58280e4",
   "metadata": {},
   "outputs": [
    {
     "name": "stdout",
     "output_type": "stream",
     "text": [
      "Array :\n",
      " [1 2 3 4 5]\n",
      "shape: (5,)\n",
      "Data Type: int32\n",
      "Item size 4\n",
      "Dimensionality: 1\n"
     ]
    }
   ],
   "source": [
    "import numpy as np\n",
    "arr=np.array([1,2,3,4,5])\n",
    "print(\"Array :\\n\",arr)\n",
    "\n",
    "#print shape\n",
    "print(\"shape:\",arr.shape)\n",
    "\n",
    "#print datatype\n",
    "print(\"Data Type:\",arr.dtype)\n",
    "\n",
    "#print item size in byte of each element\n",
    "print(\"Item size\",arr.itemsize)\n",
    "\n",
    "#print the dimensionality of the numpy array\n",
    "print(\"Dimensionality:\",arr.ndim)\n"
   ]
  },
  {
   "cell_type": "code",
   "execution_count": 26,
   "id": "a77bc96d",
   "metadata": {},
   "outputs": [
    {
     "name": "stdout",
     "output_type": "stream",
     "text": [
      "Array:\n",
      " [[1 2 3]\n",
      " [4 5 6]]\n",
      "shape: (2, 3)\n",
      "Data Type: int32\n",
      "Item Size: 4\n",
      "Dimmensionality: 2\n"
     ]
    }
   ],
   "source": [
    "arr=np.array([[1,2,3],[4,5,6]])\n",
    "print(\"Array:\\n\",arr)\n",
    "\n",
    "#print shape\n",
    "print(\"shape:\",arr.shape)\n",
    "\n",
    "#print Data Type\n",
    "print(\"Data Type:\",arr.dtype)\n",
    "\n",
    "#print Item size\n",
    "print(\"Item Size:\",arr.itemsize)\n",
    "\n",
    "#print dimensionlaity of the numpy array\n",
    "print(\"Dimmensionality:\",arr.ndim)"
   ]
  },
  {
   "cell_type": "markdown",
   "id": "d1295ae9",
   "metadata": {},
   "source": [
    "# Functions for creating Numpy Array"
   ]
  },
  {
   "cell_type": "code",
   "execution_count": 27,
   "id": "22696b77",
   "metadata": {},
   "outputs": [
    {
     "name": "stdout",
     "output_type": "stream",
     "text": [
      "Array: \n",
      " [0 1 2 3 4 5 6 7 8 9]\n",
      "Shape:  (10,)\n",
      "Data Type:  int32\n",
      "Item Size:  4\n",
      "Dimensionality:  1\n"
     ]
    }
   ],
   "source": [
    "arr = np.arange(10)\n",
    "\n",
    "print(\"Array: \\n\", arr)\n",
    "\n",
    "# Print shape\n",
    "print(\"Shape: \", arr.shape)\n",
    "\n",
    "# Print datatype\n",
    "print(\"Data Type: \", arr.dtype)\n",
    "\n",
    "# Print item size in byte of each element\n",
    "print(\"Item Size: \", arr.itemsize)\n",
    "\n",
    "# Print the dimensionality of the numpy array\n",
    "print(\"Dimensionality: \", arr.ndim)"
   ]
  },
  {
   "cell_type": "code",
   "execution_count": 29,
   "id": "329a5c35",
   "metadata": {},
   "outputs": [
    {
     "name": "stdout",
     "output_type": "stream",
     "text": [
      "Array: \n",
      " [1 2 3 4 5 6 7 8 9]\n",
      "Shape:  (9,)\n",
      "Data Type:  int32\n",
      "Item Size:  4\n",
      "Dimensionality:  1\n"
     ]
    }
   ],
   "source": [
    "arr = np.arange(1, 10)\n",
    "\n",
    "print(\"Array: \\n\", arr)\n",
    "\n",
    "# Print shape\n",
    "print(\"Shape: \", arr.shape)\n",
    "\n",
    "# Print datatype\n",
    "print(\"Data Type: \", arr.dtype)\n",
    "\n",
    "# Print item size in byte of each element\n",
    "print(\"Item Size: \", arr.itemsize)\n",
    "\n",
    "# Print the dimensionality of the numpy array\n",
    "print(\"Dimensionality: \", arr.ndim)"
   ]
  },
  {
   "cell_type": "code",
   "execution_count": 30,
   "id": "d85354fe",
   "metadata": {},
   "outputs": [
    {
     "name": "stdout",
     "output_type": "stream",
     "text": [
      "Array: \n",
      " [1 3 5 7 9]\n",
      "Shape:  (5,)\n",
      "Data Type:  int32\n",
      "Item Size:  4\n",
      "Dimensionality:  1\n"
     ]
    }
   ],
   "source": [
    "arr = np.arange(1, 10, 2)\n",
    "\n",
    "print(\"Array: \\n\", arr)\n",
    "\n",
    "# Print shape\n",
    "print(\"Shape: \", arr.shape)\n",
    "\n",
    "# Print datatype\n",
    "print(\"Data Type: \", arr.dtype)\n",
    "\n",
    "# Print item size in byte of each element\n",
    "print(\"Item Size: \", arr.itemsize)\n",
    "\n",
    "# Print the dimensionality of the numpy array\n",
    "print(\"Dimensionality: \", arr.ndim)"
   ]
  },
  {
   "cell_type": "code",
   "execution_count": 31,
   "id": "b768b1a2",
   "metadata": {},
   "outputs": [
    {
     "name": "stdout",
     "output_type": "stream",
     "text": [
      "Array: \n",
      " [[1. 1. 1.]\n",
      " [1. 1. 1.]\n",
      " [1. 1. 1.]]\n",
      "Shape:  (3, 3)\n",
      "Data Type:  float64\n",
      "Item Size:  8\n",
      "Dimensionality:  2\n"
     ]
    }
   ],
   "source": [
    "arr = np.ones((3, 3))\n",
    "\n",
    "print(\"Array: \\n\", arr)\n",
    "\n",
    "# Print shape\n",
    "print(\"Shape: \", arr.shape)\n",
    "\n",
    "# Print datatype\n",
    "print(\"Data Type: \", arr.dtype)\n",
    "\n",
    "# Print item size in byte of each element\n",
    "print(\"Item Size: \", arr.itemsize)\n",
    "\n",
    "# Print the dimensionality of the numpy array\n",
    "print(\"Dimensionality: \", arr.ndim)"
   ]
  },
  {
   "cell_type": "code",
   "execution_count": 32,
   "id": "38f034a7",
   "metadata": {},
   "outputs": [
    {
     "name": "stdout",
     "output_type": "stream",
     "text": [
      "Array: \n",
      " [[0. 0. 0.]\n",
      " [0. 0. 0.]\n",
      " [0. 0. 0.]]\n",
      "Shape:  (3, 3)\n",
      "Data Type:  float64\n",
      "Item Size:  8\n",
      "Dimensionality:  2\n"
     ]
    }
   ],
   "source": [
    "arr = np.zeros((3, 3))\n",
    "\n",
    "print(\"Array: \\n\", arr)\n",
    "\n",
    "# Print shape\n",
    "print(\"Shape: \", arr.shape)\n",
    "\n",
    "# Print datatype\n",
    "print(\"Data Type: \", arr.dtype)\n",
    "\n",
    "# Print item size in byte of each element\n",
    "print(\"Item Size: \", arr.itemsize)\n",
    "\n",
    "# Print the dimensionality of the numpy array\n",
    "print(\"Dimensionality: \", arr.ndim)"
   ]
  },
  {
   "cell_type": "code",
   "execution_count": 33,
   "id": "af71220b",
   "metadata": {},
   "outputs": [
    {
     "name": "stdout",
     "output_type": "stream",
     "text": [
      "Array: \n",
      " [[1. 0. 0.]\n",
      " [0. 1. 0.]\n",
      " [0. 0. 1.]]\n",
      "Shape:  (3, 3)\n",
      "Data Type:  float64\n",
      "Item Size:  8\n",
      "Dimensionality:  2\n"
     ]
    }
   ],
   "source": [
    "arr = np.eye(3)\n",
    "\n",
    "print(\"Array: \\n\", arr)\n",
    "\n",
    "# Print shape\n",
    "print(\"Shape: \", arr.shape)\n",
    "\n",
    "# Print datatype\n",
    "print(\"Data Type: \", arr.dtype)\n",
    "\n",
    "# Print item size in byte of each element\n",
    "print(\"Item Size: \", arr.itemsize)\n",
    "\n",
    "# Print the dimensionality of the numpy array\n",
    "print(\"Dimensionality: \", arr.ndim)"
   ]
  },
  {
   "cell_type": "code",
   "execution_count": 34,
   "id": "3bc3f9bb",
   "metadata": {},
   "outputs": [
    {
     "name": "stdout",
     "output_type": "stream",
     "text": [
      "Array: \n",
      " [[1. 0.]\n",
      " [0. 1.]\n",
      " [0. 0.]]\n",
      "Shape:  (3, 2)\n",
      "Data Type:  float64\n",
      "Item Size:  8\n",
      "Dimensionality:  2\n"
     ]
    }
   ],
   "source": [
    "arr = np.eye(3, 2)\n",
    "\n",
    "print(\"Array: \\n\", arr)\n",
    "\n",
    "# Print shape\n",
    "print(\"Shape: \", arr.shape)\n",
    "\n",
    "# Print datatype\n",
    "print(\"Data Type: \", arr.dtype)\n",
    "\n",
    "# Print item size in byte of each element\n",
    "print(\"Item Size: \", arr.itemsize)\n",
    "\n",
    "# Print the dimensionality of the numpy array\n",
    "print(\"Dimensionality: \", arr.ndim)"
   ]
  },
  {
   "cell_type": "markdown",
   "id": "8fd83f04",
   "metadata": {},
   "source": [
    "# Datatypes in Numpy\n",
    "Below is a list of all data types in NumPy and the characters used to represent them.\n",
    "\n",
    "i - integer\n",
    "b - boolean\n",
    "str - string\n",
    "f - float\n",
    "m - timedelta\n",
    "M - datetime\n",
    "O - object\n",
    "u - unsigned integer\n",
    "c - complex float\n",
    "U - unicode string\n",
    "V - fixed chunk of memory for other type ( void )"
   ]
  },
  {
   "cell_type": "code",
   "execution_count": 35,
   "id": "59d20718",
   "metadata": {},
   "outputs": [
    {
     "name": "stdout",
     "output_type": "stream",
     "text": [
      "Array: \n",
      " [2. 1. 4. 5.]\n",
      "Data Type:  float32\n"
     ]
    }
   ],
   "source": [
    "import numpy as np\n",
    "\n",
    "arr = np.array([2, 1, 4, 5], dtype='f')\n",
    "\n",
    "print(\"Array: \\n\", arr)\n",
    "\n",
    "# Print datatype\n",
    "print(\"Data Type: \", arr.dtype)\n"
   ]
  },
  {
   "cell_type": "code",
   "execution_count": 36,
   "id": "6c5ba81b",
   "metadata": {},
   "outputs": [
    {
     "name": "stdout",
     "output_type": "stream",
     "text": [
      "Array: \n",
      " [2 1 4 5]\n",
      "Data Type:  object\n"
     ]
    }
   ],
   "source": [
    "import numpy as np\n",
    "\n",
    "arr = np.array([2, 1, 4, 5], dtype='O')\n",
    "\n",
    "print(\"Array: \\n\", arr)\n",
    "\n",
    "# Print datatype\n",
    "print(\"Data Type: \", arr.dtype)"
   ]
  },
  {
   "cell_type": "code",
   "execution_count": 37,
   "id": "7fac45ae",
   "metadata": {},
   "outputs": [
    {
     "name": "stdout",
     "output_type": "stream",
     "text": [
      "Array: \n",
      " ['2' '1' '4' '5']\n",
      "Data Type:  <U1\n"
     ]
    }
   ],
   "source": [
    "import numpy as np\n",
    "\n",
    "arr = np.array([2, 1, 4, 5], dtype='str')\n",
    "\n",
    "print(\"Array: \\n\", arr)\n",
    "\n",
    "# Print datatype\n",
    "print(\"Data Type: \", arr.dtype)"
   ]
  },
  {
   "cell_type": "markdown",
   "id": "95e17589",
   "metadata": {},
   "source": [
    "# Numpy Random Numbers\n",
    ">np.random.rand - generates an array with random numbers that are uniformly distribute between 0 and 1.\n",
    "np.random.randn - generates an array with random numbers that are normally distributed, mean = 0 and stdev = 1.\n",
    "np.random.randint - generates an array with random numbers (integers) that are uniformly distribute between 0 and given number.\n",
    "np.random.uniform - generates an array with random numbers (float) between given numbers."
   ]
  },
  {
   "cell_type": "code",
   "execution_count": 38,
   "id": "350edcdf",
   "metadata": {},
   "outputs": [
    {
     "name": "stdout",
     "output_type": "stream",
     "text": [
      "Numpy Array: \n",
      " [0.86580513 0.18889015 0.08962988 0.72266382 0.41534193]\n"
     ]
    }
   ],
   "source": [
    "# Randomly generate an array from uniform distribution\n",
    "import numpy as np\n",
    "\n",
    "arr = np.random.rand(5)\n",
    "\n",
    "print(\"Numpy Array: \\n\", arr)"
   ]
  },
  {
   "cell_type": "code",
   "execution_count": 39,
   "id": "060cc3b3",
   "metadata": {},
   "outputs": [
    {
     "name": "stdout",
     "output_type": "stream",
     "text": [
      "Numpy Array generated randomly from uniform distribution: \n",
      " [[0.22907978 0.51061541]\n",
      " [0.41011852 0.11377698]\n",
      " [0.5513418  0.49905655]\n",
      " [0.63263626 0.25189981]\n",
      " [0.47084314 0.17857277]\n",
      " [0.16882801 0.81233475]\n",
      " [0.10527324 0.27572979]\n",
      " [0.85476771 0.76357379]\n",
      " [0.88316409 0.90332687]\n",
      " [0.48099913 0.86256103]]\n"
     ]
    }
   ],
   "source": [
    "# Randomly generate an array with 10 rows and 2 columns\n",
    "arr = np.random.rand(10, 2)\n",
    "\n",
    "print(\"Numpy Array generated randomly from uniform distribution: \\n\", arr)"
   ]
  },
  {
   "cell_type": "code",
   "execution_count": 40,
   "id": "d1dcdc30",
   "metadata": {},
   "outputs": [
    {
     "name": "stdout",
     "output_type": "stream",
     "text": [
      "Numpy Array: \n",
      " [ 0.25014861  0.71538865 -0.42380749 -1.61138093  0.2910965 ]\n"
     ]
    }
   ],
   "source": [
    "# Randomly generate an array from normal distribution\n",
    "import numpy as np\n",
    "\n",
    "arr = np.random.randn(5)\n",
    "\n",
    "print(\"Numpy Array: \\n\", arr)"
   ]
  },
  {
   "cell_type": "code",
   "execution_count": 41,
   "id": "04ea2fb7",
   "metadata": {},
   "outputs": [
    {
     "name": "stdout",
     "output_type": "stream",
     "text": [
      "Numpy Array generated randomly from normal distribution: \n",
      " [[ 0.29371526 -0.93230419  0.88675337  0.91395489]\n",
      " [-1.09104721 -0.45789225 -0.621473    0.70183051]\n",
      " [ 0.45443104 -0.46260891 -0.01971763 -0.06017508]\n",
      " [ 0.46608443 -1.16095591  1.18647319 -0.85223438]\n",
      " [-0.96539189  0.43694387  0.49676105  0.20551792]]\n"
     ]
    }
   ],
   "source": [
    "# Randomly generate an array with 5 rows and 4 columns\n",
    "arr = np.random.randn(5, 4)\n",
    "\n",
    "print(\"Numpy Array generated randomly from normal distribution: \\n\", arr)"
   ]
  },
  {
   "cell_type": "code",
   "execution_count": 42,
   "id": "702f0323",
   "metadata": {},
   "outputs": [
    {
     "name": "stdout",
     "output_type": "stream",
     "text": [
      "7\n"
     ]
    }
   ],
   "source": [
    "# Generate one random integer between 0 to 9\n",
    "\n",
    "value = np.random.randint(10)\n",
    "\n",
    "print(value)"
   ]
  },
  {
   "cell_type": "code",
   "execution_count": 43,
   "id": "9247ce2c",
   "metadata": {},
   "outputs": [
    {
     "name": "stdout",
     "output_type": "stream",
     "text": [
      "Numpy Array: \n",
      " [[9 2 6 7]\n",
      " [1 3 0 1]\n",
      " [7 9 1 1]\n",
      " [2 7 6 0]\n",
      " [6 9 8 6]]\n"
     ]
    }
   ],
   "source": [
    "# Randomly generate a 5*4 array containing values in the range of 0 to 9\n",
    "arr = np.random.randint(10, size = (5, 4))\n",
    "\n",
    "print(\"Numpy Array: \\n\", arr)"
   ]
  },
  {
   "cell_type": "code",
   "execution_count": 44,
   "id": "ac32c24e",
   "metadata": {},
   "outputs": [
    {
     "name": "stdout",
     "output_type": "stream",
     "text": [
      "Numpy Array: \n",
      " [[34 11 25 36 38 34 36 36 20 16]\n",
      " [24 18 18 14 16 31 15 29 16 13]\n",
      " [17 25 34 32 31 12 24 34 25 24]\n",
      " [12 18 19 13 23 30 36 14 35 31]\n",
      " [16 17 23 17 24 30 27 24 21 33]]\n"
     ]
    }
   ],
   "source": [
    "# Randomly generate a 5*10 array containing values in the range of 10 to 39\n",
    "arr = np.random.randint(10, 40, size = (5, 10))\n",
    "\n",
    "print(\"Numpy Array: \\n\", arr)"
   ]
  },
  {
   "cell_type": "code",
   "execution_count": 45,
   "id": "9c9f2e2e",
   "metadata": {},
   "outputs": [
    {
     "name": "stdout",
     "output_type": "stream",
     "text": [
      "3.720691564965149\n"
     ]
    }
   ],
   "source": [
    "# Generate one random decimal value between 0 to 10\n",
    "value = np.random.uniform(10)\n",
    "\n",
    "print(value)"
   ]
  },
  {
   "cell_type": "code",
   "execution_count": 46,
   "id": "23b18e7d",
   "metadata": {},
   "outputs": [
    {
     "name": "stdout",
     "output_type": "stream",
     "text": [
      "Numpy Array: \n",
      " [[8.64827323 2.11621408 3.79720158 6.17749297]\n",
      " [5.93385352 7.59461169 9.40078781 8.24676944]\n",
      " [3.01617407 3.24825425 8.80057517 9.2132629 ]\n",
      " [9.26301767 6.3304767  2.56883991 7.60601603]\n",
      " [3.15234017 5.92799701 7.38582749 3.99186141]]\n"
     ]
    }
   ],
   "source": [
    "# Randomly generate a 5*4 array containing values in the range of 0 to 10\n",
    "arr = np.random.uniform(10, size = (5, 4))\n",
    "\n",
    "print(\"Numpy Array: \\n\", arr)\n"
   ]
  },
  {
   "cell_type": "code",
   "execution_count": 47,
   "id": "e1b22b6e",
   "metadata": {},
   "outputs": [
    {
     "name": "stdout",
     "output_type": "stream",
     "text": [
      "Numpy Array: \n",
      " [[23.60918814 36.42603056 13.71037073]\n",
      " [24.17017558 14.08870687 17.32964148]\n",
      " [33.91267998 10.96356474 26.15981742]\n",
      " [14.29471533 10.45320123 15.69393904]\n",
      " [38.47952148 27.23053314 13.04616956]]\n"
     ]
    }
   ],
   "source": [
    "# Randomly generate a 5*3 array containing values in the range of 10 to 40\n",
    "arr = np.random.uniform(10, 40, size = (5, 3))\n",
    "\n",
    "print(\"Numpy Array: \\n\", arr)"
   ]
  },
  {
   "cell_type": "markdown",
   "id": "686766f9",
   "metadata": {},
   "source": [
    "# Numpy Array - Indexing, Slicing and Updating \n",
    ">Since data in numpy array is stored sequentially, it is possible to access the data with the help of Indexing and Slicing operation. NumPy offers more indexing facilities than regular Python sequences. In addition to indexing by integers and slices, as we saw before, arrays can be indexed by arrays of integers and arrays of booleans.\n",
    "\n",
    ">Also remember that numpy array's are mutable. i.e. Data stored in numpy array can be updated/changed."
   ]
  },
  {
   "cell_type": "code",
   "execution_count": 48,
   "id": "fe8a1eec",
   "metadata": {},
   "outputs": [
    {
     "name": "stdout",
     "output_type": "stream",
     "text": [
      "Numpy Array: \n",
      " [53 85 47 52 59]\n",
      "Shape:  (5,)\n"
     ]
    }
   ],
   "source": [
    "# Randomly generating 1 dimensional array\n",
    "arr = np.random.randint(100, size = (5, ))\n",
    "\n",
    "print(\"Numpy Array: \\n\", arr)\n",
    "\n",
    "print(\"Shape: \", arr.shape)"
   ]
  },
  {
   "cell_type": "code",
   "execution_count": 49,
   "id": "57adf41a",
   "metadata": {},
   "outputs": [
    {
     "name": "stdout",
     "output_type": "stream",
     "text": [
      "Value at 2nd index:  47\n"
     ]
    }
   ],
   "source": [
    "# Accessing 2nd index\n",
    "print(\"Value at 2nd index: \", arr[2])"
   ]
  },
  {
   "cell_type": "code",
   "execution_count": 50,
   "id": "2b5cee19",
   "metadata": {},
   "outputs": [
    {
     "name": "stdout",
     "output_type": "stream",
     "text": [
      "Numpy Array: \n",
      " [[58 45 98 32]\n",
      " [48 97 81 23]\n",
      " [87 17  5 94]\n",
      " [91 11 62 22]\n",
      " [90 81 64 48]]\n"
     ]
    }
   ],
   "source": [
    "# Randomly generating 2 dimensional array\n",
    "arr = np.random.randint(100, size = (5, 4))\n",
    "\n",
    "print(\"Numpy Array: \\n\", arr)"
   ]
  },
  {
   "cell_type": "code",
   "execution_count": 51,
   "id": "4ab5b2bf",
   "metadata": {},
   "outputs": [
    {
     "name": "stdout",
     "output_type": "stream",
     "text": [
      "Value at 2nd index:  [87 17  5 94]\n"
     ]
    }
   ],
   "source": [
    "# Accessing 2nd index\n",
    "print(\"Value at 2nd index: \", arr[2])"
   ]
  },
  {
   "cell_type": "code",
   "execution_count": 52,
   "id": "ed29677d",
   "metadata": {},
   "outputs": [
    {
     "name": "stdout",
     "output_type": "stream",
     "text": [
      "Accessing Value using Way-1:  17\n",
      "Accessing Value using Way-2:  17\n"
     ]
    }
   ],
   "source": [
    "# Accessing value at 2, 1 index\n",
    "print(\"Accessing Value using Way-1: \", arr[2][1])\n",
    "\n",
    "print(\"Accessing Value using Way-2: \", arr[2, 1]) \n",
    "# Way-2 syntax can be helpful to access multiple values"
   ]
  },
  {
   "cell_type": "code",
   "execution_count": 53,
   "id": "2529bc21",
   "metadata": {},
   "outputs": [
    {
     "name": "stdout",
     "output_type": "stream",
     "text": [
      "[17 97]\n"
     ]
    }
   ],
   "source": [
    "# Accesssing multiple values\n",
    "print(arr[[2, 1], [1, 1]])"
   ]
  },
  {
   "cell_type": "markdown",
   "id": "b3a7c5db",
   "metadata": {},
   "source": [
    "# Data Accessing using Slicing in Numpy Array "
   ]
  },
  {
   "cell_type": "code",
   "execution_count": 54,
   "id": "7069dee5",
   "metadata": {},
   "outputs": [
    {
     "name": "stdout",
     "output_type": "stream",
     "text": [
      "Numpy Array: \n",
      " [62  1 95 58 90 82 90 59 43 40]\n",
      "Shape:  (10,)\n"
     ]
    }
   ],
   "source": [
    "# Randomly generating 1 dimensional array\n",
    "import numpy as np\n",
    "\n",
    "arr = np.random.randint(100, size = (10, ))\n",
    "\n",
    "print(\"Numpy Array: \\n\", arr)\n",
    "\n",
    "print(\"Shape: \", arr.shape)"
   ]
  },
  {
   "cell_type": "code",
   "execution_count": 55,
   "id": "b8e6a18b",
   "metadata": {},
   "outputs": [
    {
     "name": "stdout",
     "output_type": "stream",
     "text": [
      "[ 1 95 58]\n",
      "[62  1 95 58 90 82]\n",
      "[62 95 90 90 43]\n"
     ]
    }
   ],
   "source": [
    "print(arr[1:4])\n",
    "\n",
    "print(arr[0:-4])\n",
    "\n",
    "print(arr[::2])"
   ]
  },
  {
   "cell_type": "code",
   "execution_count": 56,
   "id": "7adcc374",
   "metadata": {},
   "outputs": [
    {
     "name": "stdout",
     "output_type": "stream",
     "text": [
      "Numpy Array: \n",
      " [[ 1  2  3  4]\n",
      " [ 5  6  7  8]\n",
      " [ 9 10 11 12]]\n",
      "Shape:  (3, 4)\n"
     ]
    }
   ],
   "source": [
    "arr = np.array([[1, 2, 3, 4], [5, 6, 7, 8], [9, 10, 11, 12]])\n",
    "\n",
    "print(\"Numpy Array: \\n\", arr)\n",
    "\n",
    "print(\"Shape: \", arr.shape)"
   ]
  },
  {
   "cell_type": "code",
   "execution_count": 58,
   "id": "7db501c1",
   "metadata": {},
   "outputs": [
    {
     "name": "stdout",
     "output_type": "stream",
     "text": [
      "[[2 3]\n",
      " [6 7]]\n"
     ]
    }
   ],
   "source": [
    "# # Remember Way-2 for accessing the data in Numpy array\n",
    "print(arr[:2, 1:3])"
   ]
  },
  {
   "cell_type": "code",
   "execution_count": 59,
   "id": "0127e13d",
   "metadata": {},
   "outputs": [
    {
     "name": "stdout",
     "output_type": "stream",
     "text": [
      "[[5 6 7 8]]\n"
     ]
    }
   ],
   "source": [
    "print(arr[1:2, :])"
   ]
  },
  {
   "cell_type": "markdown",
   "id": "c6c7021e",
   "metadata": {},
   "source": [
    "# Indexing with Boolean Arrays"
   ]
  },
  {
   "cell_type": "code",
   "execution_count": 60,
   "id": "164a125a",
   "metadata": {},
   "outputs": [
    {
     "name": "stdout",
     "output_type": "stream",
     "text": [
      "Numpy Array: \n",
      " [21 72 21 31  5 87 79 48 59 79]\n",
      "Shape:  (10,)\n"
     ]
    }
   ],
   "source": [
    "# Randomly generating 1 dimensional array\n",
    "import numpy as np\n",
    "\n",
    "arr = np.random.randint(100, size = (10, ))\n",
    "\n",
    "print(\"Numpy Array: \\n\", arr)\n",
    "\n",
    "print(\"Shape: \", arr.shape)"
   ]
  },
  {
   "cell_type": "code",
   "execution_count": 61,
   "id": "380bb580",
   "metadata": {},
   "outputs": [
    {
     "name": "stdout",
     "output_type": "stream",
     "text": [
      "[21 87 59 79]\n"
     ]
    }
   ],
   "source": [
    "idx = [True, False, False, False, False, True, False, False, True, True]\n",
    "\n",
    "print(arr[idx])"
   ]
  },
  {
   "cell_type": "markdown",
   "id": "553114e4",
   "metadata": {},
   "source": [
    "# Updating Data in Numpy Array\n"
   ]
  },
  {
   "cell_type": "code",
   "execution_count": 62,
   "id": "bc7b1446",
   "metadata": {},
   "outputs": [
    {
     "name": "stdout",
     "output_type": "stream",
     "text": [
      "Original Array: \n",
      " [[70 22 93 94]\n",
      " [38 92 76 89]\n",
      " [91 94 33  1]\n",
      " [ 2 55 89 44]\n",
      " [88 17 27  2]]\n",
      "Updated Array: \n",
      " [[70 22 93 94]\n",
      " [38 99 76 89]\n",
      " [91 94 33  1]\n",
      " [ 2 55 89 44]\n",
      " [88 17 27  2]]\n"
     ]
    }
   ],
   "source": [
    "# Updating value in the array\n",
    "\n",
    "# Randomly generating 2 dimensional array\n",
    "arr = np.random.randint(100, size = (5, 4))\n",
    "\n",
    "print(\"Original Array: \\n\", arr)\n",
    "\n",
    "arr[1, 1] = 99\n",
    "\n",
    "print(\"Updated Array: \\n\", arr)"
   ]
  },
  {
   "cell_type": "markdown",
   "id": "5cca3300",
   "metadata": {},
   "source": [
    "# Numpy Flatten and Ravel"
   ]
  },
  {
   "cell_type": "code",
   "execution_count": 63,
   "id": "d991da3d",
   "metadata": {},
   "outputs": [
    {
     "name": "stdout",
     "output_type": "stream",
     "text": [
      "Numpy Array: \n",
      " [[37 37 33 33 20 12 21 39 31 23]\n",
      " [10 38 20 38 15 34 22 23 15 26]\n",
      " [21 34 32 32 24 22 37 39 35 33]\n",
      " [18 37 16 23 33 32 11 30 26 30]\n",
      " [31 36 31 34 39 11 19 15 32 14]]\n",
      "Shape:  (5, 10)\n"
     ]
    }
   ],
   "source": [
    "# Randomly generate a 5*10 array containing values in the range of 10 to 39\n",
    "arr = np.random.randint(10, 40, size = (5, 10))\n",
    "\n",
    "print(\"Numpy Array: \\n\", arr)\n",
    "\n",
    "print(\"Shape: \", arr.shape)"
   ]
  },
  {
   "cell_type": "code",
   "execution_count": 64,
   "id": "bdb37d26",
   "metadata": {},
   "outputs": [
    {
     "name": "stdout",
     "output_type": "stream",
     "text": [
      "Flatten Array: \n",
      " [37 37 33 33 20 12 21 39 31 23 10 38 20 38 15 34 22 23 15 26 21 34 32 32\n",
      " 24 22 37 39 35 33 18 37 16 23 33 32 11 30 26 30 31 36 31 34 39 11 19 15\n",
      " 32 14]\n",
      "Shape:  (50,)\n"
     ]
    }
   ],
   "source": [
    "flatten_arr = arr.flatten()\n",
    "\n",
    "print(\"Flatten Array: \\n\", flatten_arr)\n",
    "print(\"Shape: \", flatten_arr.shape)"
   ]
  },
  {
   "cell_type": "code",
   "execution_count": 65,
   "id": "caff651e",
   "metadata": {},
   "outputs": [
    {
     "name": "stdout",
     "output_type": "stream",
     "text": [
      "Ravel Array: \n",
      " [37 37 33 33 20 12 21 39 31 23 10 38 20 38 15 34 22 23 15 26 21 34 32 32\n",
      " 24 22 37 39 35 33 18 37 16 23 33 32 11 30 26 30 31 36 31 34 39 11 19 15\n",
      " 32 14]\n",
      "Shape:  (50,)\n"
     ]
    }
   ],
   "source": [
    "ravel_arr = arr.ravel()\n",
    "\n",
    "print(\"Ravel Array: \\n\", ravel_arr)\n",
    "print(\"Shape: \", ravel_arr.shape)"
   ]
  },
  {
   "cell_type": "markdown",
   "id": "a344d7b5",
   "metadata": {},
   "source": [
    "# Look's like both are performing fatten operation on the array data. But is there any difference between two functions?"
   ]
  },
  {
   "cell_type": "code",
   "execution_count": 66,
   "id": "dc3daa02",
   "metadata": {},
   "outputs": [
    {
     "name": "stdout",
     "output_type": "stream",
     "text": [
      "Original Array: \n",
      " [[37 37 33 33 20 12 21 39 31 23]\n",
      " [10 38 20 38 15 34 22 23 15 26]\n",
      " [21 34 32 32 24 22 37 39 35 33]\n",
      " [18 37 16 23 33 32 11 30 26 30]\n",
      " [31 36 31 34 39 11 19 15 32 14]]\n",
      "Updated Array: \n",
      " [[37 37 33 33 20 12 21 39 31 23]\n",
      " [10 99 20 38 15 34 22 23 15 26]\n",
      " [21 34 32 32 24 22 37 39 35 33]\n",
      " [18 37 16 23 33 32 11 30 26 30]\n",
      " [31 36 31 34 39 11 19 15 32 14]]\n"
     ]
    }
   ],
   "source": [
    "# Updating value in the array\n",
    "print(\"Original Array: \\n\", arr)\n",
    "\n",
    "arr[1, 1] = 99\n",
    "\n",
    "print(\"Updated Array: \\n\", arr)"
   ]
  },
  {
   "cell_type": "code",
   "execution_count": 67,
   "id": "e7c23c64",
   "metadata": {},
   "outputs": [
    {
     "name": "stdout",
     "output_type": "stream",
     "text": [
      "Flatten Array: \n",
      " [37 37 33 33 20 12 21 39 31 23 10 38 20 38 15 34 22 23 15 26 21 34 32 32\n",
      " 24 22 37 39 35 33 18 37 16 23 33 32 11 30 26 30 31 36 31 34 39 11 19 15\n",
      " 32 14]\n",
      "Ravel Array: \n",
      " [37 37 33 33 20 12 21 39 31 23 10 99 20 38 15 34 22 23 15 26 21 34 32 32\n",
      " 24 22 37 39 35 33 18 37 16 23 33 32 11 30 26 30 31 36 31 34 39 11 19 15\n",
      " 32 14]\n"
     ]
    }
   ],
   "source": [
    "print(\"Flatten Array: \\n\", flatten_arr)\n",
    "\n",
    "print(\"Ravel Array: \\n\", ravel_arr)"
   ]
  },
  {
   "cell_type": "markdown",
   "id": "fcf0bc2d",
   "metadata": {},
   "source": [
    "# Observation\n",
    "Ravel is faster than flatten() as it does not occupy any memory. Ravel returns a view of the original array."
   ]
  },
  {
   "cell_type": "markdown",
   "id": "afaac626",
   "metadata": {},
   "source": [
    "# Numpy Reshape"
   ]
  },
  {
   "cell_type": "code",
   "execution_count": 68,
   "id": "6602c6b1",
   "metadata": {},
   "outputs": [
    {
     "name": "stdout",
     "output_type": "stream",
     "text": [
      "Numpy Array: \n",
      " [[10 34 21 19 27 24 11 34 39 20]\n",
      " [25 18 27 34 18 22 17 18 13 15]\n",
      " [26 29 35 10 19 34 35 21 33 21]\n",
      " [24 27 14 32 15 33 37 13 39 30]\n",
      " [28 21 14 16 29 30 16 16 35 18]]\n",
      "Shape:  (5, 10)\n"
     ]
    }
   ],
   "source": [
    "# Randomly generate a 5*10 array containing values in the range of 10 to 39\n",
    "arr = np.random.randint(10, 40, size = (5, 10))\n",
    "\n",
    "print(\"Numpy Array: \\n\", arr)\n",
    "\n",
    "print(\"Shape: \", arr.shape)"
   ]
  },
  {
   "cell_type": "code",
   "execution_count": 69,
   "id": "4e0e21d5",
   "metadata": {},
   "outputs": [
    {
     "name": "stdout",
     "output_type": "stream",
     "text": [
      "[[10 34 21 19 27]\n",
      " [24 11 34 39 20]\n",
      " [25 18 27 34 18]\n",
      " [22 17 18 13 15]\n",
      " [26 29 35 10 19]\n",
      " [34 35 21 33 21]\n",
      " [24 27 14 32 15]\n",
      " [33 37 13 39 30]\n",
      " [28 21 14 16 29]\n",
      " [30 16 16 35 18]]\n"
     ]
    }
   ],
   "source": [
    "arr_reshaped = arr.reshape(10, 5)\n",
    "\n",
    "print(arr_reshaped)"
   ]
  },
  {
   "cell_type": "code",
   "execution_count": 70,
   "id": "89e25096",
   "metadata": {},
   "outputs": [
    {
     "name": "stdout",
     "output_type": "stream",
     "text": [
      "[[10 34]\n",
      " [21 19]\n",
      " [27 24]\n",
      " [11 34]\n",
      " [39 20]\n",
      " [25 18]\n",
      " [27 34]\n",
      " [18 22]\n",
      " [17 18]\n",
      " [13 15]\n",
      " [26 29]\n",
      " [35 10]\n",
      " [19 34]\n",
      " [35 21]\n",
      " [33 21]\n",
      " [24 27]\n",
      " [14 32]\n",
      " [15 33]\n",
      " [37 13]\n",
      " [39 30]\n",
      " [28 21]\n",
      " [14 16]\n",
      " [29 30]\n",
      " [16 16]\n",
      " [35 18]]\n"
     ]
    }
   ],
   "source": [
    "arr_reshaped = arr.reshape(25, 2)\n",
    "\n",
    "print(arr_reshaped)"
   ]
  },
  {
   "cell_type": "markdown",
   "id": "d1392bd6",
   "metadata": {},
   "source": [
    "# Iterating over Numpy Array"
   ]
  },
  {
   "cell_type": "markdown",
   "id": "e9d21e2f",
   "metadata": {},
   "source": [
    "Iterating Over one Dimensional Array"
   ]
  },
  {
   "cell_type": "code",
   "execution_count": 75,
   "id": "63cfd4b8",
   "metadata": {},
   "outputs": [
    {
     "name": "stdout",
     "output_type": "stream",
     "text": [
      "Numpy Array: \n",
      " [36 26 33 23 37 26 25 15 19 39]\n",
      "Shape:  (10,)\n"
     ]
    }
   ],
   "source": [
    "# Randomly generate an array containing values in the range of 10 to 39\n",
    "import numpy as np\n",
    "\n",
    "arr1d = np.random.randint(10, 40, size = (10, ))\n",
    "\n",
    "print(\"Numpy Array: \\n\", arr1d)\n",
    "\n",
    "print(\"Shape: \", arr1d.shape)"
   ]
  },
  {
   "cell_type": "code",
   "execution_count": 76,
   "id": "797583d8",
   "metadata": {},
   "outputs": [
    {
     "name": "stdout",
     "output_type": "stream",
     "text": [
      "36 26 33 23 37 26 25 15 19 39 "
     ]
    }
   ],
   "source": [
    "# Looping over items in the array\n",
    "for item in arr1d:\n",
    "    print(item, end=\" \")"
   ]
  },
  {
   "cell_type": "markdown",
   "id": "95dd57ab",
   "metadata": {},
   "source": [
    "## Iterating over a 2 Dimensional Array"
   ]
  },
  {
   "cell_type": "code",
   "execution_count": 78,
   "id": "b810ee37",
   "metadata": {},
   "outputs": [
    {
     "name": "stdout",
     "output_type": "stream",
     "text": [
      "Numpy Array: \n",
      " [[27 32 19 32 30 32 38 26 33 35]\n",
      " [13 29 13 31 15 16 32 28 16 10]\n",
      " [20 38 12 36 26 20 38 14 38 20]\n",
      " [30 10 25 30 32 15 31 11 12 30]\n",
      " [24 24 11 34 32 37 10 21 17 20]]\n",
      "Shape:  (5, 10)\n"
     ]
    }
   ],
   "source": [
    "# Randomly generate a 5*10 array containing values in the range of 10 to 39\n",
    "arr2d = np.random.randint(10, 40, size = (5, 10))\n",
    "\n",
    "print(\"Numpy Array: \\n\", arr2d)\n",
    "\n",
    "print(\"Shape: \", arr2d.shape)"
   ]
  },
  {
   "cell_type": "code",
   "execution_count": 79,
   "id": "dada2ce0",
   "metadata": {},
   "outputs": [
    {
     "name": "stdout",
     "output_type": "stream",
     "text": [
      "[27 32 19 32 30 32 38 26 33 35]\n",
      "[13 29 13 31 15 16 32 28 16 10]\n",
      "[20 38 12 36 26 20 38 14 38 20]\n",
      "[30 10 25 30 32 15 31 11 12 30]\n",
      "[24 24 11 34 32 37 10 21 17 20]\n"
     ]
    }
   ],
   "source": [
    "# Looping over rows in the 2d array\n",
    "for row in arr2d:\n",
    "    print(row)"
   ]
  },
  {
   "cell_type": "code",
   "execution_count": 80,
   "id": "8da0f78b",
   "metadata": {},
   "outputs": [
    {
     "name": "stdout",
     "output_type": "stream",
     "text": [
      "27 32 19 32 30 32 38 26 33 35 13 29 13 31 15 16 32 28 16 10 20 38 12 36 26 20 38 14 38 20 30 10 25 30 32 15 31 11 12 30 24 24 11 34 32 37 10 21 17 20 "
     ]
    }
   ],
   "source": [
    "# Looping over each item in the 2d array\n",
    "for item in arr2d.ravel():\n",
    "    print(item, end=\" \")"
   ]
  },
  {
   "cell_type": "markdown",
   "id": "b0158ce4",
   "metadata": {},
   "source": [
    "## Iterating using np.nditer()"
   ]
  },
  {
   "cell_type": "code",
   "execution_count": 81,
   "id": "c639bd55",
   "metadata": {},
   "outputs": [
    {
     "name": "stdout",
     "output_type": "stream",
     "text": [
      "36 26 33 23 37 26 25 15 19 39 "
     ]
    }
   ],
   "source": [
    "for item in np.nditer(arr1d):\n",
    "    print(item, end=' ')"
   ]
  },
  {
   "cell_type": "code",
   "execution_count": 82,
   "id": "85fb225f",
   "metadata": {},
   "outputs": [
    {
     "name": "stdout",
     "output_type": "stream",
     "text": [
      "27 32 19 32 30 32 38 26 33 35 13 29 13 31 15 16 32 28 16 10 20 38 12 36 26 20 38 14 38 20 30 10 25 30 32 15 31 11 12 30 24 24 11 34 32 37 10 21 17 20 "
     ]
    }
   ],
   "source": [
    "for item in np.nditer(arr2d):\n",
    "    print(item, end=' ')"
   ]
  },
  {
   "cell_type": "code",
   "execution_count": 83,
   "id": "84a3d470",
   "metadata": {},
   "outputs": [
    {
     "name": "stdout",
     "output_type": "stream",
     "text": [
      "Original Array:  [36 26 33 23 37 26 25 15 19 39]\n",
      "Updated Array [ 0  0  0  0  0  0  0 15 19  0]\n"
     ]
    }
   ],
   "source": [
    "print(\"Original Array: \", arr1d)\n",
    "\n",
    "for item in np.nditer(arr1d, op_flags=['readwrite']):\n",
    "    if item > 20:\n",
    "        item[...] = (item * 0)\n",
    "        \n",
    "print(\"Updated Array\", arr1d)"
   ]
  },
  {
   "cell_type": "markdown",
   "id": "6011fcde",
   "metadata": {},
   "source": [
    "## Exercise: Write a program to generate an array with shape 5*4 at random containing positive integer. Perform an update by replacing all odd numbers with -1. (Using a Loop)"
   ]
  },
  {
   "cell_type": "code",
   "execution_count": 84,
   "id": "e43ce18c",
   "metadata": {},
   "outputs": [
    {
     "name": "stdout",
     "output_type": "stream",
     "text": [
      "Original Array:\n",
      "[[63 95 85 71]\n",
      " [86 22 68  5]\n",
      " [61 36  5 49]\n",
      " [12 49 86 81]\n",
      " [62 63 81 21]]\n",
      "\n",
      "Updated Array (odd numbers replaced by -1):\n",
      "[[-1 -1 -1 -1]\n",
      " [86 22 68 -1]\n",
      " [-1 36 -1 -1]\n",
      " [12 -1 86 -1]\n",
      " [62 -1 -1 -1]]\n"
     ]
    }
   ],
   "source": [
    "import numpy as np\n",
    "\n",
    "# Step 1: Generate a 5x4 array with random positive integers (let's use values between 1 and 100)\n",
    "array = np.random.randint(1, 101, size=(5, 4))\n",
    "print(\"Original Array:\")\n",
    "print(array)\n",
    "\n",
    "# Step 2: Replace all odd numbers with -1 using a loop\n",
    "for i in range(array.shape[0]):\n",
    "    for j in range(array.shape[1]):\n",
    "        if array[i, j] % 2 != 0:  # Check if the number is odd\n",
    "            array[i, j] = -1\n",
    "\n",
    "print(\"\\nUpdated Array (odd numbers replaced by -1):\")\n",
    "print(array)\n"
   ]
  },
  {
   "cell_type": "markdown",
   "id": "db475aaa",
   "metadata": {},
   "source": [
    "# #Python Operators on Numpy Array"
   ]
  },
  {
   "cell_type": "code",
   "execution_count": 85,
   "id": "af60a53b",
   "metadata": {},
   "outputs": [
    {
     "name": "stdout",
     "output_type": "stream",
     "text": [
      "Original Array: \n",
      " [[1 2 3]\n",
      " [4 5 6]]\n"
     ]
    }
   ],
   "source": [
    "# We can apply any python operator on Numpy Array.\n",
    "# It will perform the operation on each element of a numpy array.\n",
    "\n",
    "x = np.array([[1, 2, 3], [4, 5, 6]])\n",
    "\n",
    "print(\"Original Array: \\n\", x)"
   ]
  },
  {
   "cell_type": "code",
   "execution_count": 86,
   "id": "377f5807",
   "metadata": {},
   "outputs": [
    {
     "name": "stdout",
     "output_type": "stream",
     "text": [
      "[[ 6  7  8]\n",
      " [ 9 10 11]]\n"
     ]
    }
   ],
   "source": [
    "print(x + 5)"
   ]
  },
  {
   "cell_type": "code",
   "execution_count": 87,
   "id": "71ceff45",
   "metadata": {},
   "outputs": [
    {
     "name": "stdout",
     "output_type": "stream",
     "text": [
      "[[1 0 1]\n",
      " [0 1 0]]\n"
     ]
    }
   ],
   "source": [
    "print(x % 2)"
   ]
  },
  {
   "cell_type": "code",
   "execution_count": 88,
   "id": "a684d893",
   "metadata": {},
   "outputs": [
    {
     "name": "stdout",
     "output_type": "stream",
     "text": [
      "[[False False  True]\n",
      " [ True  True  True]]\n"
     ]
    }
   ],
   "source": [
    "print(x >= 3)"
   ]
  },
  {
   "cell_type": "code",
   "execution_count": 89,
   "id": "be228cf3",
   "metadata": {},
   "outputs": [
    {
     "name": "stdout",
     "output_type": "stream",
     "text": [
      "[[False  True False]\n",
      " [ True False  True]]\n"
     ]
    }
   ],
   "source": [
    "print(x % 2 == 0)"
   ]
  },
  {
   "cell_type": "markdown",
   "id": "4fc0128b",
   "metadata": {},
   "source": [
    "## Exercise: Write a program to filter the values from the array based on below mentioned conditions:\n",
    "Either value should be divisible by 5.\n",
    "(or) value should be an odd number and factor of 7."
   ]
  },
  {
   "cell_type": "code",
   "execution_count": 90,
   "id": "a624a27c",
   "metadata": {},
   "outputs": [
    {
     "name": "stdout",
     "output_type": "stream",
     "text": [
      "[10 35 49  7 25 20 21]\n"
     ]
    }
   ],
   "source": [
    "import numpy as np\n",
    "\n",
    "# Original array\n",
    "arr = np.array([10, 14, 35, 49, 7, 25, 28, 20, 21])\n",
    "\n",
    "# Condition 1: Values divisible by 5\n",
    "div_by_5 = arr % 5 == 0\n",
    "\n",
    "# Condition 2: Odd numbers and factor of 7\n",
    "odd_and_factor_of_7 = (arr % 2 != 0) & (arr % 7 == 0)\n",
    "\n",
    "# Applying the conditions\n",
    "filtered_arr = arr[div_by_5 | odd_and_factor_of_7]\n",
    "\n",
    "print(filtered_arr)\n"
   ]
  },
  {
   "cell_type": "markdown",
   "id": "5552d908",
   "metadata": {},
   "source": [
    "# Numpy Maths"
   ]
  },
  {
   "cell_type": "code",
   "execution_count": 91,
   "id": "23d7e38a",
   "metadata": {},
   "outputs": [
    {
     "name": "stdout",
     "output_type": "stream",
     "text": [
      "Square Root:  2.0\n",
      "Exponent:  2.718281828459045\n",
      "Trigonometric Sin:  0.0\n",
      "Trigonometric Cos:  1.0\n",
      "... and many more\n"
     ]
    }
   ],
   "source": [
    "print(\"Square Root: \", np.sqrt(4))\n",
    "\n",
    "print(\"Exponent: \", np.exp(1))\n",
    "\n",
    "print(\"Trigonometric Sin: \", np.sin(0))\n",
    "\n",
    "print(\"Trigonometric Cos: \", np.cos(0))\n",
    "\n",
    "print(\"... and many more\")"
   ]
  },
  {
   "cell_type": "code",
   "execution_count": 92,
   "id": "a7e65327",
   "metadata": {},
   "outputs": [
    {
     "name": "stdout",
     "output_type": "stream",
     "text": [
      "Square Root:  [1.         1.41421356 1.73205081 2.        ]\n",
      "Exponent:  [ 2.71828183  7.3890561  20.08553692 54.59815003]\n",
      "Trigonometric Sin:  [ 0.84147098  0.90929743  0.14112001 -0.7568025 ]\n",
      "Trigonometric Cos:  [ 0.54030231 -0.41614684 -0.9899925  -0.65364362]\n"
     ]
    }
   ],
   "source": [
    "arr = np.array([1, 2, 3, 4])\n",
    "\n",
    "print(\"Square Root: \", np.sqrt(arr))\n",
    "\n",
    "print(\"Exponent: \", np.exp(arr))\n",
    "\n",
    "print(\"Trigonometric Sin: \", np.sin(arr))\n",
    "\n",
    "print(\"Trigonometric Cos: \", np.cos(arr))"
   ]
  },
  {
   "cell_type": "code",
   "execution_count": 93,
   "id": "61651524",
   "metadata": {},
   "outputs": [
    {
     "name": "stdout",
     "output_type": "stream",
     "text": [
      "Elementwise Addition: \n",
      " [[ 6  8]\n",
      " [10 12]]\n",
      "Elementwise Subtraction: \n",
      " [[-4 -4]\n",
      " [-4 -4]]\n",
      "Elementwise Multiplication: \n",
      " [[ 5 12]\n",
      " [21 32]]\n",
      "Elementwise Division: \n",
      " [[0.2        0.33333333]\n",
      " [0.42857143 0.5       ]]\n"
     ]
    }
   ],
   "source": [
    "# ELEMENT WISE OPERATIONS\n",
    "\n",
    "x = np.array([[1,2], [3,4]])\n",
    "\n",
    "y = np.array([[5,6], [7,8]])\n",
    "\n",
    "print(\"Elementwise Addition: \\n\", np.add(x, y))\n",
    "\n",
    "print(\"Elementwise Subtraction: \\n\", np.subtract(x, y))\n",
    "\n",
    "print(\"Elementwise Multiplication: \\n\", np.multiply(x, y))\n",
    "\n",
    "print(\"Elementwise Division: \\n\", np.divide(x, y))"
   ]
  },
  {
   "cell_type": "code",
   "execution_count": 94,
   "id": "82c6c426",
   "metadata": {},
   "outputs": [
    {
     "name": "stdout",
     "output_type": "stream",
     "text": [
      "Matrix Multiplication (Way-1): \n",
      " [[19 22]\n",
      " [43 50]]\n",
      "Matrix Multiplication (Way-2): \n",
      " [[19 22]\n",
      " [43 50]]\n",
      "Matrix Multiplication (Way-3): \n",
      " [[19 22]\n",
      " [43 50]]\n"
     ]
    }
   ],
   "source": [
    "# Matrix Multiplication\n",
    "import numpy as np\n",
    "\n",
    "x = np.array([[1,2], [3,4]])\n",
    "\n",
    "y = np.array([[5,6], [7,8]])\n",
    "\n",
    "print(\"Matrix Multiplication (Way-1): \\n\", np.matmul(x, y))\n",
    "\n",
    "print(\"Matrix Multiplication (Way-2): \\n\", np.dot(x, y))\n",
    "\n",
    "print(\"Matrix Multiplication (Way-3): \\n\", x @ y)"
   ]
  },
  {
   "cell_type": "code",
   "execution_count": 95,
   "id": "e571e4db",
   "metadata": {},
   "outputs": [
    {
     "name": "stdout",
     "output_type": "stream",
     "text": [
      "Original Array: \n",
      " [[1 2 3]\n",
      " [4 5 6]]\n",
      "Diagonal:  [1 5]\n"
     ]
    }
   ],
   "source": [
    "# Diagonal elements\n",
    "\n",
    "x = np.array([[1, 2, 3], [4, 5, 6]])\n",
    "\n",
    "print(\"Original Array: \\n\", x)\n",
    "\n",
    "print(\"Diagonal: \", np.diag(x))"
   ]
  },
  {
   "cell_type": "code",
   "execution_count": 96,
   "id": "e399bb5a",
   "metadata": {},
   "outputs": [
    {
     "name": "stdout",
     "output_type": "stream",
     "text": [
      "Original Array: \n",
      " [[1 2 3]\n",
      " [4 5 6]]\n",
      "\n",
      "Transpose: \n",
      " [[1 4]\n",
      " [2 5]\n",
      " [3 6]]\n"
     ]
    }
   ],
   "source": [
    "# Transpose of an array\n",
    "\n",
    "x = np.array([[1, 2, 3], [4, 5, 6]])\n",
    "\n",
    "print(\"Original Array: \\n\", x)\n",
    "\n",
    "print()\n",
    "\n",
    "print(\"Transpose: \\n\", x.T)"
   ]
  },
  {
   "cell_type": "markdown",
   "id": "2dff2526",
   "metadata": {},
   "source": [
    "# Numpy Statistics"
   ]
  },
  {
   "cell_type": "code",
   "execution_count": 97,
   "id": "d0dd7c77",
   "metadata": {},
   "outputs": [
    {
     "name": "stdout",
     "output_type": "stream",
     "text": [
      "Array: \n",
      " [1 2 3 4]\n",
      "Sum:  10\n",
      "Columnwise Sum:  [4 6]\n",
      "Rowwise Sum:  [3 7]\n"
     ]
    }
   ],
   "source": [
    "x = np.array([[1,2], [3,4]])\n",
    "\n",
    "print(\"Array: \\n\", arr)\n",
    "\n",
    "print(\"Sum: \", np.sum(x))\n",
    "\n",
    "print(\"Columnwise Sum: \", np.sum(x, axis=0)) # Column Wise\n",
    "\n",
    "print(\"Rowwise Sum: \", np.sum(x, axis=1)) # Row wise"
   ]
  },
  {
   "cell_type": "code",
   "execution_count": 98,
   "id": "e5809990",
   "metadata": {},
   "outputs": [
    {
     "name": "stdout",
     "output_type": "stream",
     "text": [
      "Array: \n",
      " [[1 2 3]\n",
      " [4 5 6]]\n",
      "Minimum:  1\n",
      "Columnwise Minimum:  [1 2 3]\n",
      "Rowwise Minimum:  [1 4]\n"
     ]
    }
   ],
   "source": [
    "x = np.array([[1, 2, 3], [4, 5, 6]])\n",
    "\n",
    "print(\"Array: \\n\", x)\n",
    "\n",
    "print(\"Minimum: \", np.min(x))\n",
    "\n",
    "print(\"Columnwise Minimum: \", np.min(x, axis=0)) # Column Wise\n",
    "\n",
    "print(\"Rowwise Minimum: \", np.min(x, axis=1)) # Row wise"
   ]
  },
  {
   "cell_type": "code",
   "execution_count": 99,
   "id": "9b52537d",
   "metadata": {},
   "outputs": [
    {
     "name": "stdout",
     "output_type": "stream",
     "text": [
      "Array: \n",
      " [160 180 146 162 184 180]\n",
      "Minimum:  146\n",
      "Maximum:  184\n",
      "Mean:  168.66666666666666\n",
      "Median:  171.0\n",
      "Variance:  187.55555555555557\n",
      "Std Dev:  13.695092389449425\n"
     ]
    }
   ],
   "source": [
    "x = np.array([160, 180, 146, 162, 184, 180])\n",
    "\n",
    "print(\"Array: \\n\", x)\n",
    "\n",
    "print(\"Minimum: \", np.min(x))\n",
    "\n",
    "print(\"Maximum: \", np.max(x))\n",
    "\n",
    "print(\"Mean: \", np.mean(x))\n",
    "\n",
    "print(\"Median: \", np.median(x))\n",
    "\n",
    "print(\"Variance: \", np.var(x))\n",
    "\n",
    "print(\"Std Dev: \", np.std(x))"
   ]
  },
  {
   "cell_type": "code",
   "execution_count": 100,
   "id": "0209bd91",
   "metadata": {},
   "outputs": [
    {
     "data": {
      "text/plain": [
       "array([[1.        , 0.88546942],\n",
       "       [0.88546942, 1.        ]])"
      ]
     },
     "execution_count": 100,
     "metadata": {},
     "output_type": "execute_result"
    }
   ],
   "source": [
    "heights = np.array([160, 180, 146, 162, 184, 180])\n",
    "\n",
    "weights = np.array([50, 78, 45, 51, 80, 60])\n",
    "\n",
    "np.corrcoef(heights, weights)"
   ]
  },
  {
   "cell_type": "markdown",
   "id": "f7f426ff",
   "metadata": {},
   "source": [
    "# Miscellaneous Topics\n"
   ]
  },
  {
   "cell_type": "markdown",
   "id": "b3b821cc",
   "metadata": {},
   "source": [
    "## Linspace"
   ]
  },
  {
   "cell_type": "code",
   "execution_count": 101,
   "id": "45165104",
   "metadata": {},
   "outputs": [
    {
     "name": "stdout",
     "output_type": "stream",
     "text": [
      "[1.  1.5 2.  2.5 3.  3.5 4.  4.5 5. ]\n"
     ]
    }
   ],
   "source": [
    "# Syntax => np.linspace(begin, end, # of elements)\n",
    "\n",
    "print(np.linspace(1, 5, 9))\n"
   ]
  },
  {
   "cell_type": "code",
   "execution_count": 102,
   "id": "3154e8af",
   "metadata": {},
   "outputs": [
    {
     "name": "stdout",
     "output_type": "stream",
     "text": [
      "[10.  10.6 11.2 11.8 12.4 13. ]\n"
     ]
    }
   ],
   "source": [
    "print(np.linspace(10, 13, 6))"
   ]
  },
  {
   "cell_type": "markdown",
   "id": "df9bd694",
   "metadata": {},
   "source": [
    "## Sorting"
   ]
  },
  {
   "cell_type": "code",
   "execution_count": 103,
   "id": "bd4e7381",
   "metadata": {},
   "outputs": [
    {
     "name": "stdout",
     "output_type": "stream",
     "text": [
      "[[76 80 96 64 86 85 64 61 79 78]\n",
      " [50 61 78 68 64 64 94 73 99 51]\n",
      " [50 55 90 59 70 53 83 65 57 87]\n",
      " [69 76 58 64 69 90 87 92 93 72]\n",
      " [83 93 54 97 88 78 85 84 73 70]]\n"
     ]
    }
   ],
   "source": [
    "import numpy as np\n",
    "\n",
    "arr = np.random.randint(50, 100, size = (5, 10))\n",
    "\n",
    "print(arr)"
   ]
  },
  {
   "cell_type": "code",
   "execution_count": 104,
   "id": "5b35a8af",
   "metadata": {},
   "outputs": [
    {
     "data": {
      "text/plain": [
       "array([[61, 64, 64, 76, 78, 79, 80, 85, 86, 96],\n",
       "       [50, 51, 61, 64, 64, 68, 73, 78, 94, 99],\n",
       "       [50, 53, 55, 57, 59, 65, 70, 83, 87, 90],\n",
       "       [58, 64, 69, 69, 72, 76, 87, 90, 92, 93],\n",
       "       [54, 70, 73, 78, 83, 84, 85, 88, 93, 97]])"
      ]
     },
     "execution_count": 104,
     "metadata": {},
     "output_type": "execute_result"
    }
   ],
   "source": [
    "np.sort(arr)"
   ]
  },
  {
   "cell_type": "code",
   "execution_count": 105,
   "id": "aefa0902",
   "metadata": {},
   "outputs": [
    {
     "data": {
      "text/plain": [
       "array([[50, 55, 54, 59, 64, 53, 64, 61, 57, 51],\n",
       "       [50, 61, 58, 64, 69, 64, 83, 65, 73, 70],\n",
       "       [69, 76, 78, 64, 70, 78, 85, 73, 79, 72],\n",
       "       [76, 80, 90, 68, 86, 85, 87, 84, 93, 78],\n",
       "       [83, 93, 96, 97, 88, 90, 94, 92, 99, 87]])"
      ]
     },
     "execution_count": 105,
     "metadata": {},
     "output_type": "execute_result"
    }
   ],
   "source": [
    "# Column Wise Sorting\n",
    "\n",
    "np.sort(arr, axis = 0)"
   ]
  },
  {
   "cell_type": "code",
   "execution_count": 106,
   "id": "d33f67ce",
   "metadata": {},
   "outputs": [
    {
     "data": {
      "text/plain": [
       "array([[61, 64, 64, 76, 78, 79, 80, 85, 86, 96],\n",
       "       [50, 51, 61, 64, 64, 68, 73, 78, 94, 99],\n",
       "       [50, 53, 55, 57, 59, 65, 70, 83, 87, 90],\n",
       "       [58, 64, 69, 69, 72, 76, 87, 90, 92, 93],\n",
       "       [54, 70, 73, 78, 83, 84, 85, 88, 93, 97]])"
      ]
     },
     "execution_count": 106,
     "metadata": {},
     "output_type": "execute_result"
    }
   ],
   "source": [
    "# Row Wise Sorting\n",
    "\n",
    "np.sort(arr, axis = 1)"
   ]
  },
  {
   "cell_type": "markdown",
   "id": "527c6a92",
   "metadata": {},
   "source": [
    "## Stacking"
   ]
  },
  {
   "cell_type": "code",
   "execution_count": 107,
   "id": "69f74eb9",
   "metadata": {},
   "outputs": [
    {
     "name": "stdout",
     "output_type": "stream",
     "text": [
      "[[ 5  6  7  8  9]\n",
      " [10 11 12 13 14]]\n"
     ]
    }
   ],
   "source": [
    "arr_1 = np.arange(5,15).reshape(2,5)\n",
    "\n",
    "print(arr_1)"
   ]
  },
  {
   "cell_type": "code",
   "execution_count": 108,
   "id": "48ba6cf7",
   "metadata": {},
   "outputs": [
    {
     "name": "stdout",
     "output_type": "stream",
     "text": [
      "[[25 26 27 28 29]\n",
      " [30 31 32 33 34]]\n"
     ]
    }
   ],
   "source": [
    "arr_2 = np.arange(25,35).reshape(2,5)\n",
    "print(arr_2)"
   ]
  },
  {
   "cell_type": "code",
   "execution_count": 109,
   "id": "5ff595dc",
   "metadata": {},
   "outputs": [
    {
     "data": {
      "text/plain": [
       "array([[ 5,  6,  7,  8,  9],\n",
       "       [10, 11, 12, 13, 14],\n",
       "       [25, 26, 27, 28, 29],\n",
       "       [30, 31, 32, 33, 34]])"
      ]
     },
     "execution_count": 109,
     "metadata": {},
     "output_type": "execute_result"
    }
   ],
   "source": [
    "np.vstack([arr_1, arr_2])"
   ]
  },
  {
   "cell_type": "code",
   "execution_count": 110,
   "id": "fef2e49c",
   "metadata": {},
   "outputs": [
    {
     "data": {
      "text/plain": [
       "array([[ 5,  6,  7,  8,  9, 25, 26, 27, 28, 29],\n",
       "       [10, 11, 12, 13, 14, 30, 31, 32, 33, 34]])"
      ]
     },
     "execution_count": 110,
     "metadata": {},
     "output_type": "execute_result"
    }
   ],
   "source": [
    "np.hstack([arr_1, arr_2])"
   ]
  },
  {
   "cell_type": "markdown",
   "id": "352c76f5",
   "metadata": {},
   "source": [
    "## Concatenate"
   ]
  },
  {
   "cell_type": "code",
   "execution_count": 111,
   "id": "ce7087cb",
   "metadata": {},
   "outputs": [
    {
     "data": {
      "text/plain": [
       "array([[ 5,  6,  7,  8,  9],\n",
       "       [10, 11, 12, 13, 14],\n",
       "       [25, 26, 27, 28, 29],\n",
       "       [30, 31, 32, 33, 34]])"
      ]
     },
     "execution_count": 111,
     "metadata": {},
     "output_type": "execute_result"
    }
   ],
   "source": [
    "np.concatenate([arr_1, arr_2], axis = 0) # concatinating - vertical stacking"
   ]
  },
  {
   "cell_type": "code",
   "execution_count": 112,
   "id": "5980ff2b",
   "metadata": {},
   "outputs": [
    {
     "data": {
      "text/plain": [
       "array([[ 5,  6,  7,  8,  9, 25, 26, 27, 28, 29],\n",
       "       [10, 11, 12, 13, 14, 30, 31, 32, 33, 34]])"
      ]
     },
     "execution_count": 112,
     "metadata": {},
     "output_type": "execute_result"
    }
   ],
   "source": [
    "np.concatenate([arr_1, arr_2], axis = 1) # concatinating - horizontal stacking"
   ]
  },
  {
   "cell_type": "markdown",
   "id": "70e82ef2",
   "metadata": {},
   "source": [
    "## Append"
   ]
  },
  {
   "cell_type": "code",
   "execution_count": 113,
   "id": "dba2fa55",
   "metadata": {},
   "outputs": [
    {
     "data": {
      "text/plain": [
       "array([[ 5,  6,  7,  8,  9],\n",
       "       [10, 11, 12, 13, 14],\n",
       "       [25, 26, 27, 28, 29],\n",
       "       [30, 31, 32, 33, 34]])"
      ]
     },
     "execution_count": 113,
     "metadata": {},
     "output_type": "execute_result"
    }
   ],
   "source": [
    "np.append(arr_1, arr_2, axis = 0) # Appending - vertical stacking"
   ]
  },
  {
   "cell_type": "code",
   "execution_count": 114,
   "id": "5eac5ae7",
   "metadata": {},
   "outputs": [
    {
     "data": {
      "text/plain": [
       "array([[ 5,  6,  7,  8,  9, 25, 26, 27, 28, 29],\n",
       "       [10, 11, 12, 13, 14, 30, 31, 32, 33, 34]])"
      ]
     },
     "execution_count": 114,
     "metadata": {},
     "output_type": "execute_result"
    }
   ],
   "source": [
    "np.append(arr_1, arr_2, axis = 1) # Appending - horizontal stacking"
   ]
  },
  {
   "cell_type": "markdown",
   "id": "9e25d494",
   "metadata": {},
   "source": [
    "## Where - Process Array Elements Conditionally\n",
    "Understanding np.where() Syntax\n",
    "\n",
    "numpy.where(  \n",
    "  condition,   # Where True, yield x, otherwise y  \n",
    "  [x, y, ]     # Values to choose from  \n",
    ")"
   ]
  },
  {
   "cell_type": "code",
   "execution_count": 115,
   "id": "0775377b",
   "metadata": {},
   "outputs": [
    {
     "name": "stdout",
     "output_type": "stream",
     "text": [
      "[[50 51 52 53 54 55 56 57 58 59]\n",
      " [60 61 62 63 64 65 66 67 68 69]\n",
      " [70 71 72 73 74 75 76 77 78 79]\n",
      " [80 81 82 83 84 85 86 87 88 89]\n",
      " [90 91 92 93 94 95 96 97 98 99]]\n"
     ]
    }
   ],
   "source": [
    "arr = np.arange(50, 100).reshape(5, 10)\n",
    "\n",
    "print(arr)"
   ]
  },
  {
   "cell_type": "code",
   "execution_count": 116,
   "id": "f35f55a2",
   "metadata": {},
   "outputs": [
    {
     "data": {
      "text/plain": [
       "array([[1, 1, 1, 1, 1, 1, 1, 1, 1, 1],\n",
       "       [1, 1, 1, 1, 1, 0, 0, 0, 0, 0],\n",
       "       [0, 0, 0, 0, 0, 0, 0, 0, 0, 0],\n",
       "       [0, 0, 0, 0, 0, 0, 0, 0, 0, 0],\n",
       "       [0, 0, 0, 0, 0, 0, 0, 0, 0, 0]])"
      ]
     },
     "execution_count": 116,
     "metadata": {},
     "output_type": "execute_result"
    }
   ],
   "source": [
    "np.where(arr > 64, 0, 1)"
   ]
  },
  {
   "cell_type": "code",
   "execution_count": 117,
   "id": "489234d8",
   "metadata": {},
   "outputs": [
    {
     "data": {
      "text/plain": [
       "array([[50. , 51. , 52. , 53. , 54. , 55. , 56. , 57. , 58. , 59. ],\n",
       "       [60. , 61. , 62. , 63. , 64. ,  6.5,  6.6,  6.7,  6.8,  6.9],\n",
       "       [ 7. ,  7.1,  7.2,  7.3,  7.4,  7.5,  7.6,  7.7,  7.8,  7.9],\n",
       "       [ 8. ,  8.1,  8.2,  8.3,  8.4,  8.5,  8.6,  8.7,  8.8,  8.9],\n",
       "       [ 9. ,  9.1,  9.2,  9.3,  9.4,  9.5,  9.6,  9.7,  9.8,  9.9]])"
      ]
     },
     "execution_count": 117,
     "metadata": {},
     "output_type": "execute_result"
    }
   ],
   "source": [
    "np.where(arr > 64, arr/10, arr)"
   ]
  },
  {
   "cell_type": "markdown",
   "id": "3533b60f",
   "metadata": {},
   "source": [
    "# argsort"
   ]
  },
  {
   "cell_type": "code",
   "execution_count": 118,
   "id": "e250679a",
   "metadata": {},
   "outputs": [
    {
     "name": "stdout",
     "output_type": "stream",
     "text": [
      "Indexes:  [1 3 2 0]\n",
      "Sorted Array:  [-5 -1  6 10]\n"
     ]
    }
   ],
   "source": [
    "import numpy as np\n",
    "\n",
    "arr = np.array([10, -5, 6, -1])\n",
    "\n",
    "print(\"Indexes: \", arr.argsort()) # Returns indexes\n",
    "\n",
    "print(\"Sorted Array: \", arr[arr.argsort()])"
   ]
  },
  {
   "cell_type": "markdown",
   "id": "b07e00d0",
   "metadata": {},
   "source": [
    "## Numpy Broadcasting\n",
    "Start matching the dimensions backward (Right to Left)\n",
    "Compatible - If same number appears or if one of them is 1\n",
    "Incompatible - Otherwise"
   ]
  },
  {
   "cell_type": "code",
   "execution_count": 119,
   "id": "b1365d0e",
   "metadata": {},
   "outputs": [],
   "source": [
    "import numpy as np\n"
   ]
  },
  {
   "cell_type": "code",
   "execution_count": 120,
   "id": "ecc03153",
   "metadata": {},
   "outputs": [
    {
     "name": "stdout",
     "output_type": "stream",
     "text": [
      "[[2 4 6]\n",
      " [5 7 9]]\n"
     ]
    }
   ],
   "source": [
    "arr_1 = np.array([[1, 2, 3], [4, 5, 6]])\n",
    "\n",
    "arr_2 = np.array([1, 2, 3])\n",
    "\n",
    "print(arr_1 + arr_2)"
   ]
  },
  {
   "cell_type": "code",
   "execution_count": 121,
   "id": "ad5438d2",
   "metadata": {},
   "outputs": [
    {
     "name": "stdout",
     "output_type": "stream",
     "text": [
      "[[2 3 4]\n",
      " [6 7 8]]\n"
     ]
    }
   ],
   "source": [
    "##Run this program\n",
    "\n",
    "arr_1 = np.array([[1, 2, 3], [4, 5, 6]])\n",
    "\n",
    "arr_2 = np.array([[1], [2]])\n",
    "\n",
    "print(arr_1 + arr_2)"
   ]
  },
  {
   "cell_type": "code",
   "execution_count": null,
   "id": "747ea137",
   "metadata": {},
   "outputs": [],
   "source": []
  }
 ],
 "metadata": {
  "kernelspec": {
   "display_name": "Python 3 (ipykernel)",
   "language": "python",
   "name": "python3"
  },
  "language_info": {
   "codemirror_mode": {
    "name": "ipython",
    "version": 3
   },
   "file_extension": ".py",
   "mimetype": "text/x-python",
   "name": "python",
   "nbconvert_exporter": "python",
   "pygments_lexer": "ipython3",
   "version": "3.10.9"
  }
 },
 "nbformat": 4,
 "nbformat_minor": 5
}
